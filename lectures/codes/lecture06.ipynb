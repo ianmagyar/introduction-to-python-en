{
 "cells": [
  {
   "cell_type": "code",
   "execution_count": 6,
   "id": "3fce3296",
   "metadata": {},
   "outputs": [],
   "source": [
    "import numpy as np"
   ]
  },
  {
   "cell_type": "code",
   "execution_count": 7,
   "id": "c9d280ff",
   "metadata": {},
   "outputs": [
    {
     "name": "stdout",
     "output_type": "stream",
     "text": [
      "[0. 0. 0. 0. 0. 0. 0. 0. 0. 0.]\n"
     ]
    }
   ],
   "source": [
    "t = np.zeros(10)\n",
    "print(t)"
   ]
  },
  {
   "cell_type": "code",
   "execution_count": 10,
   "id": "bcbeba1e",
   "metadata": {},
   "outputs": [
    {
     "name": "stdout",
     "output_type": "stream",
     "text": [
      "1\n"
     ]
    }
   ],
   "source": [
    "from random import choice\n",
    "print(choice([1, 2, 3, 4, 5]))"
   ]
  },
  {
   "cell_type": "code",
   "execution_count": 11,
   "id": "3bb9a1b3",
   "metadata": {},
   "outputs": [
    {
     "name": "stdout",
     "output_type": "stream",
     "text": [
      "4\n",
      "8\n"
     ]
    }
   ],
   "source": [
    "x = 5\n",
    "y = 6\n",
    "x -= 1\n",
    "y += 2\n",
    "print(x)\n",
    "print(y)"
   ]
  },
  {
   "cell_type": "code",
   "execution_count": 12,
   "id": "1c5726bd",
   "metadata": {},
   "outputs": [
    {
     "name": "stdout",
     "output_type": "stream",
     "text": [
      "[]\n",
      "[3]\n"
     ]
    }
   ],
   "source": [
    "lst = list()\n",
    "print(lst)\n",
    "lst.append(3)\n",
    "print(lst)"
   ]
  },
  {
   "cell_type": "code",
   "execution_count": 21,
   "id": "97664dea",
   "metadata": {},
   "outputs": [],
   "source": [
    "class Product:\n",
    "    def __init__(self, name, price):\n",
    "        self.name = name\n",
    "        self.price = price\n",
    "    \n",
    "    def set_price(self, new_price):\n",
    "        self.price = new_price\n",
    "    \n",
    "    def sell(self):\n",
    "        print(\"Sold product {} for {}\".format(self.name, self.price))"
   ]
  },
  {
   "cell_type": "code",
   "execution_count": 22,
   "id": "bf10cfc3",
   "metadata": {},
   "outputs": [],
   "source": [
    "laptop = Product(\"laptop\", 700.0)"
   ]
  },
  {
   "cell_type": "code",
   "execution_count": 23,
   "id": "5c7c3df1",
   "metadata": {},
   "outputs": [
    {
     "name": "stdout",
     "output_type": "stream",
     "text": [
      "<__main__.Product object at 0x000001C5CA34F0A0>\n",
      "laptop\n",
      "700.0\n"
     ]
    }
   ],
   "source": [
    "print(laptop)\n",
    "print(laptop.name)\n",
    "print(laptop.price)"
   ]
  },
  {
   "cell_type": "code",
   "execution_count": 24,
   "id": "ee1eddac",
   "metadata": {},
   "outputs": [
    {
     "name": "stdout",
     "output_type": "stream",
     "text": [
      "500.0\n"
     ]
    }
   ],
   "source": [
    "laptop.set_price(500.0)\n",
    "print(laptop.price)"
   ]
  },
  {
   "cell_type": "code",
   "execution_count": 25,
   "id": "c417b805",
   "metadata": {},
   "outputs": [
    {
     "name": "stdout",
     "output_type": "stream",
     "text": [
      "Sold product laptop for 500.0\n"
     ]
    }
   ],
   "source": [
    "laptop.sell()"
   ]
  },
  {
   "cell_type": "code",
   "execution_count": 27,
   "id": "c8704134",
   "metadata": {},
   "outputs": [],
   "source": [
    "class Guitarist:\n",
    "    nextIdNum = 1\n",
    "    \n",
    "    def __init__(self, firstName, familyName):\n",
    "        self.first_name = firstName\n",
    "        self.family_name = familyName\n",
    "        self.id_num = Guitarist.nextIdNum\n",
    "        Guitarist.nextIdNum += 1\n",
    "    \n",
    "    def get_id_num(self):\n",
    "        return self.id_num\n",
    "\n",
    "    def __eq__(self, other):\n",
    "        return self.id_num == other.get_id_num()"
   ]
  },
  {
   "cell_type": "code",
   "execution_count": 28,
   "id": "e23a5fd1",
   "metadata": {},
   "outputs": [],
   "source": [
    "guitarist1 = Guitarist(\"John\", \"Doe\")\n",
    "guitarist2 = Guitarist(\"Jane\", \"Doe\")"
   ]
  },
  {
   "cell_type": "code",
   "execution_count": 29,
   "id": "f987c298",
   "metadata": {},
   "outputs": [
    {
     "name": "stdout",
     "output_type": "stream",
     "text": [
      "1\n",
      "2\n"
     ]
    }
   ],
   "source": [
    "print(guitarist1.get_id_num())\n",
    "print(guitarist2.get_id_num())"
   ]
  },
  {
   "cell_type": "code",
   "execution_count": 31,
   "id": "4d7eeaac",
   "metadata": {},
   "outputs": [
    {
     "name": "stdout",
     "output_type": "stream",
     "text": [
      "False\n",
      "True\n"
     ]
    }
   ],
   "source": [
    "print(guitarist1 == guitarist2)\n",
    "print(guitarist1 == guitarist1)"
   ]
  },
  {
   "cell_type": "code",
   "execution_count": null,
   "id": "952ff842",
   "metadata": {},
   "outputs": [],
   "source": []
  }
 ],
 "metadata": {
  "kernelspec": {
   "display_name": "Python 3 (ipykernel)",
   "language": "python",
   "name": "python3"
  },
  "language_info": {
   "codemirror_mode": {
    "name": "ipython",
    "version": 3
   },
   "file_extension": ".py",
   "mimetype": "text/x-python",
   "name": "python",
   "nbconvert_exporter": "python",
   "pygments_lexer": "ipython3",
   "version": "3.9.12"
  }
 },
 "nbformat": 4,
 "nbformat_minor": 5
}
