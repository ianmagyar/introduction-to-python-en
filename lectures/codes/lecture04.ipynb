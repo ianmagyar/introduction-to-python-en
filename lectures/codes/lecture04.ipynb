{
 "cells": [
  {
   "cell_type": "code",
   "execution_count": 14,
   "id": "ad3d4ea4",
   "metadata": {},
   "outputs": [
    {
     "name": "stdout",
     "output_type": "stream",
     "text": [
      "a\n",
      "You are trying to divide by 0\n",
      "I always get printed\n"
     ]
    }
   ],
   "source": [
    "number = 10\n",
    "divide_by = 0\n",
    "\n",
    "try:\n",
    "    print(\"a\")\n",
    "    print(number / divide_by)\n",
    "    print(\"b\")\n",
    "except ZeroDivisionError:\n",
    "    print(\"You are trying to divide by 0\")\n",
    "except NameError:\n",
    "    print(\"You are using a non-existent variable\")\n",
    "else:\n",
    "    print(\"Everything went well\")\n",
    "finally:\n",
    "    print(\"I always get printed\")"
   ]
  },
  {
   "cell_type": "code",
   "execution_count": 18,
   "id": "266fe8ae",
   "metadata": {},
   "outputs": [
    {
     "name": "stdout",
     "output_type": "stream",
     "text": [
      "10\n"
     ]
    }
   ],
   "source": [
    "number = 10\n",
    "divide_by = 0\n",
    "if divide_by == 0:\n",
    "    raise ZeroDivisionError(\"You are trying to divide by 0\")\n",
    "print(number / divide_by)"
   ]
  },
  {
   "cell_type": "code",
   "execution_count": 27,
   "id": "38193cb3",
   "metadata": {},
   "outputs": [],
   "source": [
    "def is_even(number):\n",
    "    if not isinstance(number, int):\n",
    "        raise TypeError(\"Incorrect argument type. Expected int.\")\n",
    "    return not number % 2\n",
    "\n",
    "\n",
    "assert is_even(0) is True\n",
    "assert is_even(1) is False\n",
    "assert is_even(12) is True\n",
    "assert is_even(23) is False\n",
    "assert is_even(849843546873143687354387) is False\n",
    "try:\n",
    "    is_even(1236.48)\n",
    "except TypeError:\n",
    "    pass\n",
    "else:\n",
    "    raise AssertionError"
   ]
  },
  {
   "cell_type": "code",
   "execution_count": 34,
   "id": "7b442dc3",
   "metadata": {},
   "outputs": [
    {
     "name": "stdout",
     "output_type": "stream",
     "text": [
      "Enter element. Return when done. a\n",
      "Enter element. Return when done. b\n",
      "Enter element. Return when done. c\n",
      "Enter element. Return when done. b\n",
      "Enter element. Return when done. a\n",
      "Enter element. Return when done. \n"
     ]
    },
    {
     "data": {
      "text/plain": [
       "True"
      ]
     },
     "execution_count": 34,
     "metadata": {},
     "output_type": "execute_result"
    }
   ],
   "source": [
    "def is_palindrome():\n",
    "    original_list = list()\n",
    "    done = False\n",
    "    while not done:\n",
    "        elem = input(\"Enter element. Return when done. \")\n",
    "        if elem == '':\n",
    "            done = True\n",
    "        else:\n",
    "            original_list.append(elem)\n",
    "    \n",
    "    test_list = original_list.copy()\n",
    "    test_list.reverse()\n",
    "    return test_list == original_list\n",
    "\n",
    "is_palindrome()"
   ]
  },
  {
   "cell_type": "code",
   "execution_count": 35,
   "id": "1ec2d9c8",
   "metadata": {},
   "outputs": [],
   "source": [
    "lst = [[1, 2, 3], [4, 5, 6], [7, 8, 9]]\n",
    "lst2 = lst.copy()"
   ]
  },
  {
   "cell_type": "code",
   "execution_count": 36,
   "id": "94414b01",
   "metadata": {},
   "outputs": [
    {
     "name": "stdout",
     "output_type": "stream",
     "text": [
      "[[1, 2, 3], [4, 5, 6], [7, 8, 9]]\n"
     ]
    }
   ],
   "source": [
    "print(lst)"
   ]
  },
  {
   "cell_type": "code",
   "execution_count": 37,
   "id": "d1b82b44",
   "metadata": {},
   "outputs": [
    {
     "name": "stdout",
     "output_type": "stream",
     "text": [
      "[[1, 2, 3], [4, 5, 6], [7, 8, 9]]\n"
     ]
    }
   ],
   "source": [
    "print(lst2)"
   ]
  },
  {
   "cell_type": "code",
   "execution_count": 38,
   "id": "200e6d9b",
   "metadata": {},
   "outputs": [
    {
     "name": "stdout",
     "output_type": "stream",
     "text": [
      "[[3, 2, 1], [4, 5, 6], [7, 8, 9]]\n"
     ]
    }
   ],
   "source": [
    "lst[0] = [3, 2, 1]\n",
    "print(lst)"
   ]
  },
  {
   "cell_type": "code",
   "execution_count": 39,
   "id": "32138125",
   "metadata": {},
   "outputs": [
    {
     "name": "stdout",
     "output_type": "stream",
     "text": [
      "[[1, 2, 3], [4, 5, 6], [7, 8, 9]]\n"
     ]
    }
   ],
   "source": [
    "print(lst2)"
   ]
  },
  {
   "cell_type": "code",
   "execution_count": 40,
   "id": "616496b1",
   "metadata": {},
   "outputs": [
    {
     "name": "stdout",
     "output_type": "stream",
     "text": [
      "[[3, 2, 1], [0, 5, 6], [7, 8, 9]]\n"
     ]
    }
   ],
   "source": [
    "lst[1][0] = 0\n",
    "print(lst)"
   ]
  },
  {
   "cell_type": "code",
   "execution_count": 41,
   "id": "8ba30e28",
   "metadata": {},
   "outputs": [
    {
     "name": "stdout",
     "output_type": "stream",
     "text": [
      "[[1, 2, 3], [0, 5, 6], [7, 8, 9]]\n"
     ]
    }
   ],
   "source": [
    "print(lst2)"
   ]
  },
  {
   "cell_type": "code",
   "execution_count": 42,
   "id": "7ab74417",
   "metadata": {},
   "outputs": [],
   "source": [
    "from copy import deepcopy"
   ]
  },
  {
   "cell_type": "code",
   "execution_count": 43,
   "id": "3c1705ea",
   "metadata": {},
   "outputs": [
    {
     "name": "stdout",
     "output_type": "stream",
     "text": [
      "[[3, 2, 1], [0, 5, 6], [7, 8, 9]]\n"
     ]
    }
   ],
   "source": [
    "lst3 = deepcopy(lst)\n",
    "print(lst3)"
   ]
  },
  {
   "cell_type": "code",
   "execution_count": null,
   "id": "5550e718",
   "metadata": {},
   "outputs": [],
   "source": []
  }
 ],
 "metadata": {
  "kernelspec": {
   "display_name": "Python 3 (ipykernel)",
   "language": "python",
   "name": "python3"
  },
  "language_info": {
   "codemirror_mode": {
    "name": "ipython",
    "version": 3
   },
   "file_extension": ".py",
   "mimetype": "text/x-python",
   "name": "python",
   "nbconvert_exporter": "python",
   "pygments_lexer": "ipython3",
   "version": "3.9.12"
  }
 },
 "nbformat": 4,
 "nbformat_minor": 5
}
