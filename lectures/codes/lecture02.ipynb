{
 "cells": [
  {
   "cell_type": "code",
   "execution_count": 4,
   "id": "1a67b976",
   "metadata": {},
   "outputs": [],
   "source": [
    "def square(number, print_result=False):\n",
    "    \"\"\"\n",
    "    Returns the square of a number.\n",
    "    \n",
    "    params:\n",
    "     - number - int, number to be squared\n",
    "     - print_result - bool, will print the result if True\n",
    "    \n",
    "    return:\n",
    "     - integer, square of number\n",
    "    \"\"\"\n",
    "    result = number ** 2\n",
    "    if print_result:\n",
    "        print('The result is', result)\n",
    "    return result"
   ]
  },
  {
   "cell_type": "code",
   "execution_count": 5,
   "id": "e8a9b10e",
   "metadata": {},
   "outputs": [
    {
     "name": "stdout",
     "output_type": "stream",
     "text": [
      "9\n"
     ]
    }
   ],
   "source": [
    "print(square(3))"
   ]
  },
  {
   "cell_type": "code",
   "execution_count": 6,
   "id": "8527143c",
   "metadata": {},
   "outputs": [],
   "source": [
    "# print(square(\"abc\"))"
   ]
  },
  {
   "cell_type": "code",
   "execution_count": 7,
   "id": "3d8512b5",
   "metadata": {},
   "outputs": [
    {
     "name": "stdout",
     "output_type": "stream",
     "text": [
      "The result is 9\n",
      "9\n"
     ]
    }
   ],
   "source": [
    "print(square(3, True))"
   ]
  },
  {
   "cell_type": "code",
   "execution_count": 9,
   "id": "aeb96e95",
   "metadata": {},
   "outputs": [
    {
     "name": "stdout",
     "output_type": "stream",
     "text": [
      "The result is 1\n",
      "1\n",
      "The result is 9\n",
      "9\n"
     ]
    }
   ],
   "source": [
    "print(square(True, 3))\n",
    "print(square(print_result=True, number=3))"
   ]
  },
  {
   "cell_type": "code",
   "execution_count": 10,
   "id": "562bc07f",
   "metadata": {},
   "outputs": [
    {
     "ename": "TypeError",
     "evalue": "square() missing 1 required positional argument: 'number'",
     "output_type": "error",
     "traceback": [
      "\u001b[1;31m---------------------------------------------------------------------------\u001b[0m",
      "\u001b[1;31mTypeError\u001b[0m                                 Traceback (most recent call last)",
      "Input \u001b[1;32mIn [10]\u001b[0m, in \u001b[0;36m<cell line: 1>\u001b[1;34m()\u001b[0m\n\u001b[1;32m----> 1\u001b[0m \u001b[38;5;28mprint\u001b[39m(\u001b[43msquare\u001b[49m\u001b[43m(\u001b[49m\u001b[43m)\u001b[49m)\n",
      "\u001b[1;31mTypeError\u001b[0m: square() missing 1 required positional argument: 'number'"
     ]
    }
   ],
   "source": [
    "print(square())"
   ]
  },
  {
   "cell_type": "code",
   "execution_count": 24,
   "id": "ee2febac",
   "metadata": {},
   "outputs": [],
   "source": [
    "def cube(number:int) -> int:\n",
    "    if not isinstance(number, int):\n",
    "        return -1\n",
    "    result = number ** 3\n",
    "    return result"
   ]
  },
  {
   "cell_type": "code",
   "execution_count": 25,
   "id": "76b3e26b",
   "metadata": {},
   "outputs": [
    {
     "name": "stdout",
     "output_type": "stream",
     "text": [
      "27\n"
     ]
    }
   ],
   "source": [
    "print(cube(3))"
   ]
  },
  {
   "cell_type": "code",
   "execution_count": 26,
   "id": "03ec6ddb",
   "metadata": {},
   "outputs": [
    {
     "name": "stdout",
     "output_type": "stream",
     "text": [
      "-1\n"
     ]
    }
   ],
   "source": [
    "print(cube(4.7))"
   ]
  },
  {
   "cell_type": "code",
   "execution_count": 27,
   "id": "91f1c207",
   "metadata": {},
   "outputs": [
    {
     "name": "stdout",
     "output_type": "stream",
     "text": [
      "-1\n"
     ]
    }
   ],
   "source": [
    "print(cube(-1))"
   ]
  },
  {
   "cell_type": "code",
   "execution_count": 47,
   "id": "812de206",
   "metadata": {},
   "outputs": [],
   "source": [
    "def square(number, print_result=False):\n",
    "    global a\n",
    "    print(a)\n",
    "    a += 1\n",
    "    result = number ** 2\n",
    "    if print_result:\n",
    "        print('The result is', result)\n",
    "    return result"
   ]
  },
  {
   "cell_type": "code",
   "execution_count": 49,
   "id": "bf3b9e89",
   "metadata": {},
   "outputs": [
    {
     "name": "stdout",
     "output_type": "stream",
     "text": [
      "5\n",
      "25\n",
      "6\n"
     ]
    }
   ],
   "source": [
    "a = 5\n",
    "print(square(a))\n",
    "print(a)\n",
    "# print(result)"
   ]
  },
  {
   "cell_type": "code",
   "execution_count": 51,
   "id": "cebfec86",
   "metadata": {},
   "outputs": [
    {
     "name": "stdout",
     "output_type": "stream",
     "text": [
      "None\n"
     ]
    }
   ],
   "source": [
    "def no_return_value():\n",
    "    pass\n",
    "    # return None\n",
    "\n",
    "print(no_return_value())"
   ]
  },
  {
   "cell_type": "code",
   "execution_count": 52,
   "id": "66c6bd26",
   "metadata": {},
   "outputs": [],
   "source": [
    "def multiple_return_values():\n",
    "    return 1, 2, 3"
   ]
  },
  {
   "cell_type": "code",
   "execution_count": 53,
   "id": "8875c341",
   "metadata": {},
   "outputs": [
    {
     "name": "stdout",
     "output_type": "stream",
     "text": [
      "(1, 2, 3)\n"
     ]
    }
   ],
   "source": [
    "print(multiple_return_values())"
   ]
  },
  {
   "cell_type": "code",
   "execution_count": 55,
   "id": "3023f927",
   "metadata": {},
   "outputs": [
    {
     "name": "stdout",
     "output_type": "stream",
     "text": [
      "(1, 2, 3)\n",
      "1\n",
      "1\n",
      "2\n",
      "3\n"
     ]
    }
   ],
   "source": [
    "res = multiple_return_values()\n",
    "print(res)\n",
    "print(res[0])\n",
    "\n",
    "a, b, c = multiple_return_values()\n",
    "print(a)\n",
    "print(b)\n",
    "print(c)"
   ]
  },
  {
   "cell_type": "code",
   "execution_count": 58,
   "id": "12ad365f",
   "metadata": {},
   "outputs": [
    {
     "name": "stdout",
     "output_type": "stream",
     "text": [
      "1\n",
      "2\n",
      "3\n"
     ]
    }
   ],
   "source": [
    "a, b, _ = multiple_return_values()\n",
    "print(a)\n",
    "print(b)\n",
    "print(_)"
   ]
  },
  {
   "cell_type": "code",
   "execution_count": 60,
   "id": "07c2e3bb",
   "metadata": {},
   "outputs": [
    {
     "name": "stdout",
     "output_type": "stream",
     "text": [
      "Enter an expression using x: x * x + x\n",
      "30\n"
     ]
    }
   ],
   "source": [
    "x = 5\n",
    "expr = input(\"Enter an expression using x: \")\n",
    "print(eval(expr))"
   ]
  },
  {
   "cell_type": "code",
   "execution_count": 64,
   "id": "9fc48ec8",
   "metadata": {},
   "outputs": [
    {
     "name": "stdout",
     "output_type": "stream",
     "text": [
      "Enter a function (square/cube): square\n",
      "1\n",
      "4\n",
      "9\n",
      "16\n",
      "25\n",
      "36\n",
      "49\n",
      "64\n",
      "81\n",
      "100\n"
     ]
    }
   ],
   "source": [
    "def square(number):\n",
    "    return number ** 2\n",
    "\n",
    "def cube(number):\n",
    "    return number ** 3\n",
    "\n",
    "func = input(\"Enter a function (square/cube): \")\n",
    "for num in range(1, 11):\n",
    "    print(eval(func)(num))"
   ]
  },
  {
   "cell_type": "code",
   "execution_count": 66,
   "id": "fce859a1",
   "metadata": {},
   "outputs": [
    {
     "name": "stdout",
     "output_type": "stream",
     "text": [
      "a 1\n",
      "b 2\n",
      "c 3\n",
      "d 4\n",
      "a 1\n",
      "b 2\n",
      "c 3\n",
      "d 4\n"
     ]
    }
   ],
   "source": [
    "lst1 = ['a', 'b', 'c', 'd']\n",
    "lst2 = [1, 2, 3, 4]\n",
    "\n",
    "for idx in range(len(lst1)):\n",
    "    print(lst1[idx], lst2[idx])\n",
    "\n",
    "for let, num in zip(lst1, lst2):\n",
    "    print(let, num)"
   ]
  },
  {
   "cell_type": "code",
   "execution_count": 67,
   "id": "b980ee17",
   "metadata": {},
   "outputs": [],
   "source": [
    "myfile = open('test.txt', 'w')"
   ]
  },
  {
   "cell_type": "code",
   "execution_count": 68,
   "id": "5f439e67",
   "metadata": {},
   "outputs": [
    {
     "data": {
      "text/plain": [
       "18"
      ]
     },
     "execution_count": 68,
     "metadata": {},
     "output_type": "execute_result"
    }
   ],
   "source": [
    "myfile.write('gasvbasvblsakfbks\\n')"
   ]
  },
  {
   "cell_type": "code",
   "execution_count": 69,
   "id": "a6c81a77",
   "metadata": {},
   "outputs": [],
   "source": [
    "myfile.flush()"
   ]
  },
  {
   "cell_type": "code",
   "execution_count": 70,
   "id": "05aa9815",
   "metadata": {},
   "outputs": [],
   "source": [
    "myfile.writelines([\"second line\\n\", \"third line\\n\"])"
   ]
  },
  {
   "cell_type": "code",
   "execution_count": 71,
   "id": "b2d79f6e",
   "metadata": {},
   "outputs": [],
   "source": [
    "myfile.close()"
   ]
  },
  {
   "cell_type": "code",
   "execution_count": 72,
   "id": "d3bc992b",
   "metadata": {},
   "outputs": [
    {
     "name": "stdout",
     "output_type": "stream",
     "text": [
      "['gasvbasvblsakfbks\\n', 'second line\\n', 'third line\\n']\n"
     ]
    }
   ],
   "source": [
    "readfile = open(\"test.txt\", 'r')\n",
    "print(readfile.readlines())"
   ]
  },
  {
   "cell_type": "code",
   "execution_count": 73,
   "id": "8c894648",
   "metadata": {},
   "outputs": [],
   "source": [
    "readfile.close()"
   ]
  },
  {
   "cell_type": "code",
   "execution_count": 74,
   "id": "d9d16aae",
   "metadata": {},
   "outputs": [],
   "source": [
    "with open('test.txt', 'r') as readfile:\n",
    "    lines = readfile.readlines()"
   ]
  },
  {
   "cell_type": "code",
   "execution_count": 75,
   "id": "6163b4dc",
   "metadata": {},
   "outputs": [
    {
     "name": "stdout",
     "output_type": "stream",
     "text": [
      "['gasvbasvblsakfbks\\n', 'second line\\n', 'third line\\n']\n"
     ]
    }
   ],
   "source": [
    "print(lines)"
   ]
  },
  {
   "cell_type": "code",
   "execution_count": 76,
   "id": "8e5849b6",
   "metadata": {},
   "outputs": [],
   "source": [
    "def is_palindrome(sequence):\n",
    "    if len(sequence) == 0:\n",
    "        return True\n",
    "    if len(sequence) == 1:\n",
    "        return True\n",
    "    \n",
    "    return sequence[0] == sequence[-1] and is_palindrome(sequence[1:-1])"
   ]
  },
  {
   "cell_type": "code",
   "execution_count": 77,
   "id": "0a198a4f",
   "metadata": {},
   "outputs": [
    {
     "name": "stdout",
     "output_type": "stream",
     "text": [
      "True\n",
      "False\n",
      "True\n",
      "False\n"
     ]
    }
   ],
   "source": [
    "print(is_palindrome(\"abcba\"))\n",
    "print(is_palindrome(\"abcde\"))\n",
    "print(is_palindrome(\"abccba\"))\n",
    "print(is_palindrome(\"abcccab\"))"
   ]
  },
  {
   "cell_type": "code",
   "execution_count": 78,
   "id": "56789cea",
   "metadata": {},
   "outputs": [],
   "source": [
    "def fibonacci(n):\n",
    "    if n == 1:\n",
    "        return 0\n",
    "    if n == 2:\n",
    "        return 1\n",
    "    \n",
    "    return fibonacci(n - 2) + fibonacci(n - 1)"
   ]
  },
  {
   "cell_type": "code",
   "execution_count": 79,
   "id": "2fac80b1",
   "metadata": {},
   "outputs": [
    {
     "name": "stdout",
     "output_type": "stream",
     "text": [
      "0\n",
      "1\n",
      "1\n",
      "8\n"
     ]
    }
   ],
   "source": [
    "# 0, 1, 1, 2, 3, 5, 8, 13, 21, ...\n",
    "print(fibonacci(1))\n",
    "print(fibonacci(2))\n",
    "print(fibonacci(3))\n",
    "print(fibonacci(7))"
   ]
  },
  {
   "cell_type": "code",
   "execution_count": 83,
   "id": "b21bfe32",
   "metadata": {},
   "outputs": [
    {
     "name": "stdout",
     "output_type": "stream",
     "text": [
      "5702887\n"
     ]
    }
   ],
   "source": [
    "print(fibonacci(35))"
   ]
  },
  {
   "cell_type": "code",
   "execution_count": 84,
   "id": "28bef764",
   "metadata": {},
   "outputs": [],
   "source": [
    "def barnyard(heads, legs):\n",
    "    for chicken in range(0, heads + 1):\n",
    "        rabbits = heads - chicken\n",
    "        if 2 * chicken + 4 * rabbits == legs:\n",
    "            return chicken, rabbits"
   ]
  },
  {
   "cell_type": "code",
   "execution_count": 85,
   "id": "87e0a7ec",
   "metadata": {},
   "outputs": [
    {
     "name": "stdout",
     "output_type": "stream",
     "text": [
      "(32, 16)\n"
     ]
    }
   ],
   "source": [
    "print(barnyard(48, 128))"
   ]
  },
  {
   "cell_type": "code",
   "execution_count": 86,
   "id": "dd43722d",
   "metadata": {},
   "outputs": [],
   "source": [
    "def fib(n):\n",
    "    a, b = 0, 1\n",
    "    for _ in range(n):\n",
    "        yield a\n",
    "        a, b = b, a + b"
   ]
  },
  {
   "cell_type": "code",
   "execution_count": 87,
   "id": "0991608b",
   "metadata": {},
   "outputs": [
    {
     "data": {
      "text/plain": [
       "0"
      ]
     },
     "execution_count": 87,
     "metadata": {},
     "output_type": "execute_result"
    }
   ],
   "source": [
    "fib_gen = fib(10)\n",
    "next(fib_gen)"
   ]
  },
  {
   "cell_type": "code",
   "execution_count": 97,
   "id": "ee9593e7",
   "metadata": {},
   "outputs": [
    {
     "ename": "StopIteration",
     "evalue": "",
     "output_type": "error",
     "traceback": [
      "\u001b[1;31m---------------------------------------------------------------------------\u001b[0m",
      "\u001b[1;31mStopIteration\u001b[0m                             Traceback (most recent call last)",
      "Input \u001b[1;32mIn [97]\u001b[0m, in \u001b[0;36m<cell line: 1>\u001b[1;34m()\u001b[0m\n\u001b[1;32m----> 1\u001b[0m \u001b[38;5;28;43mnext\u001b[39;49m\u001b[43m(\u001b[49m\u001b[43mfib_gen\u001b[49m\u001b[43m)\u001b[49m\n",
      "\u001b[1;31mStopIteration\u001b[0m: "
     ]
    }
   ],
   "source": [
    "next(fib_gen)"
   ]
  },
  {
   "cell_type": "code",
   "execution_count": 98,
   "id": "a69f3122",
   "metadata": {},
   "outputs": [],
   "source": [
    "def fib():\n",
    "    a, b = 0, 1\n",
    "    while True:\n",
    "        yield a\n",
    "        a, b = b, a + b"
   ]
  },
  {
   "cell_type": "code",
   "execution_count": 99,
   "id": "e5eed3d1",
   "metadata": {},
   "outputs": [],
   "source": [
    "inf_gen = fib()"
   ]
  },
  {
   "cell_type": "code",
   "execution_count": 118,
   "id": "26fe2729",
   "metadata": {},
   "outputs": [
    {
     "data": {
      "text/plain": [
       "2584"
      ]
     },
     "execution_count": 118,
     "metadata": {},
     "output_type": "execute_result"
    }
   ],
   "source": [
    "next(inf_gen)"
   ]
  },
  {
   "cell_type": "code",
   "execution_count": 119,
   "id": "e90be630",
   "metadata": {},
   "outputs": [],
   "source": [
    "my_list = [1, 5, 4, 6, 8, 11, 13, 15, 27]\n",
    "new_list = list(filter(lambda x: x % 2, my_list))"
   ]
  },
  {
   "cell_type": "code",
   "execution_count": 120,
   "id": "4c43d782",
   "metadata": {},
   "outputs": [
    {
     "name": "stdout",
     "output_type": "stream",
     "text": [
      "[1, 5, 11, 13, 15, 27]\n"
     ]
    }
   ],
   "source": [
    "print(new_list)"
   ]
  },
  {
   "cell_type": "code",
   "execution_count": 121,
   "id": "8dba59ca",
   "metadata": {},
   "outputs": [
    {
     "name": "stdout",
     "output_type": "stream",
     "text": [
      "['id0', 'id1', 'id13', 'id37', 'id4']\n"
     ]
    }
   ],
   "source": [
    "my_list = [\"id0\", \"id37\", \"id13\", \"id1\", \"id4\"]\n",
    "print(sorted(my_list))"
   ]
  },
  {
   "cell_type": "code",
   "execution_count": 122,
   "id": "364ef381",
   "metadata": {},
   "outputs": [
    {
     "name": "stdout",
     "output_type": "stream",
     "text": [
      "['id0', 'id1', 'id4', 'id13', 'id37']\n"
     ]
    }
   ],
   "source": [
    "print(sorted(my_list, key=lambda s: int(s[2:])))"
   ]
  },
  {
   "cell_type": "code",
   "execution_count": 125,
   "id": "3609d113",
   "metadata": {},
   "outputs": [
    {
     "name": "stdout",
     "output_type": "stream",
     "text": [
      "[{'name': 'E E', 'age': 19}, {'name': 'E D', 'age': 26}, {'name': 'A B', 'age': 27}, {'name': 'D A', 'age': 31}]\n",
      "[{'name': 'D A', 'age': 31}, {'name': 'A B', 'age': 27}, {'name': 'E D', 'age': 26}, {'name': 'E E', 'age': 19}]\n"
     ]
    }
   ],
   "source": [
    "my_list = [\n",
    "    {\n",
    "        \"name\": \"A B\",\n",
    "        \"age\": 27\n",
    "    },\n",
    "    {\n",
    "        \"name\": \"D A\",\n",
    "        \"age\": 31\n",
    "    },\n",
    "    {\n",
    "        \"name\": \"E E\",\n",
    "        \"age\": 19\n",
    "    },\n",
    "    {\n",
    "        \"name\": \"E D\",\n",
    "        \"age\": 26\n",
    "    }\n",
    "]\n",
    "print(sorted(my_list, key=lambda x: x[\"age\"]))\n",
    "print(sorted(my_list, key=lambda x: x[\"name\"].split()[-1]))"
   ]
  },
  {
   "cell_type": "code",
   "execution_count": null,
   "id": "0cade812",
   "metadata": {},
   "outputs": [],
   "source": []
  }
 ],
 "metadata": {
  "kernelspec": {
   "display_name": "Python 3 (ipykernel)",
   "language": "python",
   "name": "python3"
  },
  "language_info": {
   "codemirror_mode": {
    "name": "ipython",
    "version": 3
   },
   "file_extension": ".py",
   "mimetype": "text/x-python",
   "name": "python",
   "nbconvert_exporter": "python",
   "pygments_lexer": "ipython3",
   "version": "3.9.12"
  }
 },
 "nbformat": 4,
 "nbformat_minor": 5
}
