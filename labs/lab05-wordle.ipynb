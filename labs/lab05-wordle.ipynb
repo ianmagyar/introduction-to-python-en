{
 "cells": [
  {
   "cell_type": "markdown",
   "metadata": {},
   "source": [
    "# Lab 5: Wordle"
   ]
  },
  {
   "cell_type": "markdown",
   "metadata": {},
   "source": [
    "Wordle is a simple web game that has become popular in recent months. The aim of the game is to guess a five-letter word in six attempts, with the game revealing after each attempt whether our guess contains the correct letters and whether they are in the right place. Based on this feedback, we can eliminate possible solutions and work our way to the hidden word. [If you don't have experience with the game, you can try it here.](https://wordlegame.org)"
   ]
  },
  {
   "cell_type": "markdown",
   "metadata": {},
   "source": [
    "<img src=\"sources/lab05/wordle_example.png\" width=\"600\">\n",
    "\n",
    "<p style=\"text-align: center;\">Source: https://en.wikipedia.org/wiki/Wordle#/media/File:Wordle_196_example.svg</p>"
   ]
  },
  {
   "cell_type": "markdown",
   "metadata": {},
   "source": [
    "You can see an example of the game in the picture above. The hidden word is *rebus*. The player's first attempt was *arise*. The colors of each letter represent information about the correctness of the letters and their positions. For example, from the word *arise*, the letters *r*, *s* and *e* are also in the correct solution *rebus*, but they are not in the correct position. The remaining grey letters are not in the correct solution. In the next attempt, the player entered the word *route*, in which the letter *r* is already in the correct position, and further learned that the solution also contains the letter *u*. The player continues in this style until he finds the correct word or uses up all six attempts. In the standard version of the game the player can enter any word from a set of accepted words. If the player enters an invalid word, he can continue without losing an attempt.\n",
    "\n",
    "Before starting the implementation, you need to download the [file with the list of accepted words](sources/lab05/word_list.txt). You can then download the [solution skeleton](sources/lab05/lab05.py), or work in this notebook."
   ]
  },
  {
   "cell_type": "markdown",
   "metadata": {},
   "source": [
    "## 1. Loading words\n",
    "\n",
    "The basis of the game will be a file with a set of accepted words. An example for such a file can be found above (`word_list.txt`): each line contains one word, and there is a blank line at the end of the file.\n",
    "\n",
    "In the first step, you implement the `load_words` function, which loads a list of words accepted by the game. The function takes one parameter (`dataset_path`) - the path to the file containing the supported words. The function returns a list of words, where the elements of the list are strings of length 5."
   ]
  },
  {
   "cell_type": "code",
   "execution_count": null,
   "metadata": {},
   "outputs": [],
   "source": [
    "def load_words(dataset_path):\n",
    "    return list()"
   ]
  },
  {
   "cell_type": "markdown",
   "metadata": {},
   "source": [
    "## 2. Starting and ending the game\n",
    "\n",
    "For the game itself, we need two more simple helper functions. First, implement the `get_puzzle` function, which selects a random word from the list of words it receives as the `word_list` parameter to serve as the solution the player must guess. The function has one return value: a word, that is, a string of length five. For random selection, use the standard `random` module that you already have imported.\n",
    "\n",
    "An important functionality is to ensure that we know if the player has already guessed the correct solution. The `is_game_finished` function with two parameters is used to do this:\n",
    " - `guess` - a string representing the player's guess;\n",
    " - `puzzle` - a string representing the correct solution.\n",
    "The function returns `True` if the player guessed the word, otherwise it returns `False`.\n",
    "\n",
    "**Note:** Remember that the player can also write his guess in upper case, but in this case you must also evaluate his guess correctly."
   ]
  },
  {
   "cell_type": "code",
   "execution_count": null,
   "metadata": {},
   "outputs": [],
   "source": [
    "import random\n",
    "\n",
    "def get_puzzle(word_list):\n",
    "    return \"\"\n",
    "\n",
    "\n",
    "def is_game_finished(guess, puzzle):\n",
    "    return False"
   ]
  },
  {
   "cell_type": "markdown",
   "metadata": {},
   "source": [
    "## 3. Evaluating the guess\n",
    "\n",
    "The last function to implement is `evaluate_guess`, which evaluates the player's guess and returns information about the correctness of the letters and their positions. The function takes the same parameters as `is_game_finished`, namely the player's guess (`guess`) and the correct solution (`puzzle`). But the return value is a bit more complex - it will be a list of tuples, which represents the feedback after evaluating the guess by creating a triplet of values for each letter:\n",
    " - letter - a string of length 1\n",
    " - information about whether the given letter is in the solution - Boolean value `True/False`\n",
    " - information about whether the letter is in the correct position - Boolean value `True/False`; if the letter is not in the solution, it will be `False`, since the letter is in the wrong position.\n",
    "\n",
    "In our example, we would evaluate the guess *route* as follows:\n",
    "`[('r', True, True), ('o', False, False), ('u', True, False), ('t', False, False), ('e', True, False)]`\n",
    "\n",
    "If the player guesses the correct word, all Boolean values will be `True`, if the player enters a word that has no letter in common with the solution, all values will be `False`.\n",
    "\n",
    "**Note:** You must observe the order of the letters in the word when preparing the evaluation."
   ]
  },
  {
   "cell_type": "code",
   "execution_count": null,
   "metadata": {},
   "outputs": [],
   "source": [
    "def evaluate_guess(guess, puzzle):\n",
    "    return list()"
   ]
  },
  {
   "cell_type": "markdown",
   "metadata": {},
   "source": [
    "## 4. Let's play Wordle\n",
    "\n",
    "Now that we have implemented all the helper functions, we can start implementing Wordle. Define the function `start_game` with one parameter (`dataset_path`), representing the whole game as follows:\n",
    "\n",
    "1. reads the list of accepted words from the file it receives in the parameter;\n",
    "2. selects a random word from the list to serve as the solution to be guessed;\n",
    "3. a maximum of six rounds are performed, within each round:\n",
    "\n",
    "    1. the user can enter his/her guess - if the guess is not from the list of accepted words, the player is again prompted to enter his/her guess without losing the opportunity to guess (this does not count towards the six attempts);\n",
    "    2. the player's guess is evaluated and the result is printed on the screen (just print the program representation, you don't need to preprocess it in any way);\n",
    "    3. if the player guesses the word, write a message about it and end the game; if the player used up all attempts but did not guess the word, inform him about the loss and end the game as well.\n",
    "    \n",
    "**Note:** For ease of testing, you can print the correct solution right at the beginning to check the correctness of the support functions."
   ]
  },
  {
   "cell_type": "code",
   "execution_count": null,
   "metadata": {},
   "outputs": [],
   "source": [
    "def start_game(dataset_path):\n",
    "    pass\n",
    "\n",
    "start_game(\"word_list.txt\")"
   ]
  },
  {
   "cell_type": "markdown",
   "metadata": {},
   "source": [
    "## 5. Error handling\n",
    "\n",
    "Your implementation is no doubt perfectly functional, but even the best code can fail if you give it the wrong inputs and values to process. Modify your solution so that it doesn't end up with an error in any case. Handle possible errors with a `try-except` block, give the user an informative message about what went wrong in error cases, and terminate the program properly (i.e., the program must not crash).\n",
    "\n",
    "**Discuss the individual functions, input and output assumptions, validate all inputs for correctness of type and values, and if using standard functions, determine under what circumstances they work correctly.**"
   ]
  },
  {
   "cell_type": "markdown",
   "metadata": {},
   "source": [
    "## Bonus task\n",
    "\n",
    "It's a known fact that programmers are lazy, and while Wordle is a fun game and a great way to procrastinate, sooner or later they think of implementing a smart bot to play the game for them and much more efficiently. In this challenge, you will create one such bot.\n",
    "\n",
    "The first step is to implement a function `get_player_guess` that will select a list of possible solutions and a random guess from a list of words `word_list` (format the same as when loaded by the `load_words` function), which it receives as a parameter. The function thus has two return values:\n",
    " - a list of possible solutions - a list of strings, where each string is a five-letter word; do not work directly with the `word_list` parameter, but with an own list or a copy of `word_list`.\n",
    " - guess - a string, that is, a random word from the list of possible solutions.\n",
    "\n",
    "The bot eliminates possibilities based on the knowledge it has gained about the correct solution, which is represented in the `knowledge` list it receives as a parameter. This list is initialized at the beginning of the script (a copy of it is worked with later) and is a list of triples, where each triplet represents information about each possible letter, similar to the `evaluate_guess` function.\n",
    "\n",
    "The triplet has the following structure:\n",
    " - a letter - a string of length 1\n",
    " - information about whether the letter is in the word - initialized to `None`, later you replace the value with Boolean values `True/False`\n",
    " - information about the position of the letter in the correct solution - initialized to -1, later replaced by a valid index of 0 to 4. Note: this bot will not account for the possibility of multiple occurrences of a letter in a word, so the third value will always be a single number.\n",
    "\n",
    "Based on this knowledge, the `get_player_guess` function should eliminate the possibilities as follows:\n",
    " 1. delete from the list of possible solutions words that do not contain the letters it knows are in the correct solution based on the `knowledge` list\n",
    " 2. delete from the list of possible solutions words that contain letters that it knows are not in the correct solution based on the `knowledge` list\n",
    " 3. delete from the list of possible solutions words that do not have the correct letter in some position where the bot already knows what letter will be there.\n",
    "\n",
    "We also provide an example. After the first two attempts in the example above, the player already knows that the solution definitely contains the letters *r*, *s*, *e*, *u*, and the first position contains the letter *r*. Thus, based on the individual rules, he would eliminate, for example:\n",
    " 1. the word *table*, which does not contain the necessary letters *r*, *s*, *u*\n",
    " 2. the word *braid*, which contains the letter *a*, which the player already knows is not in the solution\n",
    " 3. the word *trout*, since the player already knows that the letter *r* must be in the first position\n",
    "\n",
    "After eliminating some possible solutions, the bot selects a random word from the list and returns the values according to the function specification.\n",
    "\n",
    "Of course, the bot only has a chance to win the game if it gradually updates the representation of its knowledge on the searched word. This is done by the `process_result` function with the `result` parameter, which contains the feedback from the game that is generated by the `evaluate_guess` function (the format does not change). The function sequentially processes the information about all the letters from the last guess as follows:\n",
    " 1. updates the information about whether or not the letter is in the correct solution\n",
    " 2. if the letter is also in the correct position, it updates this information in the `knowledge` list.\n",
    "\n",
    "The `process_result` function has no return value, update the `knowledge` list directly.\n",
    "\n",
    "**Note:** Remember that the `knowledge` list contains tuples, which are immutable. This is why when processing feedback, you must create a new tuple and store it in the correct place in the knowledge list. The order of the information about the letters in the list should remain the same, i.e. you will first have knowledge about the occurrences of the letter *a*, the letter *b*, etc.\n",
    "\n",
    "Once you have implemented these two functions, you can test the bot's functionality with a simulated game. The function is very similar to the `start_game` function - but the input from the player is replaced by the input from the bot. During the game, it will also output the list of possible solutions, which will get progressively shorter as the bot processes the information it learns about the searched word."
   ]
  },
  {
   "cell_type": "code",
   "execution_count": null,
   "metadata": {},
   "outputs": [],
   "source": [
    "from copy import deepcopy\n",
    "import string\n",
    "\n",
    "\n",
    "def get_player_guess(word_list, knowledge):\n",
    "    available = word_list.copy()\n",
    "\n",
    "    # TODO: eliminate impossible solutions\n",
    "\n",
    "    return available, random.choice(available)\n",
    "\n",
    "\n",
    "def process_result(result, knowledge):\n",
    "    # TODO: update knowledge based on result\n",
    "    pass\n",
    "\n",
    "\n",
    "def bot_game(dataset_path):\n",
    "    word_list = load_words(dataset_path)\n",
    "    player_words = word_list.copy()\n",
    "\n",
    "    PLAYER_KNOWLEDGE = [(letter, None, -1)\n",
    "                        for letter in string.ascii_lowercase]\n",
    "    player_knowledge = deepcopy(PLAYER_KNOWLEDGE)\n",
    "\n",
    "    puzzle = get_puzzle(word_list)\n",
    "    print(puzzle)\n",
    "\n",
    "    guess = \"\"\n",
    "    while not is_game_finished(guess, puzzle):\n",
    "        player_words, guess = get_player_guess(player_words, player_knowledge)\n",
    "        print(player_words)\n",
    "        player_words.remove(guess)\n",
    "        print(guess)\n",
    "\n",
    "        result = evaluate_guess(guess, puzzle)\n",
    "        print(result)\n",
    "\n",
    "        process_result(result, player_knowledge)\n",
    "\n",
    "\n",
    "bot_game(\"word_list.txt\")"
   ]
  }
 ],
 "metadata": {
  "kernelspec": {
   "display_name": "Python 3",
   "language": "python",
   "name": "python3"
  },
  "language_info": {
   "codemirror_mode": {
    "name": "ipython",
    "version": 3
   },
   "file_extension": ".py",
   "mimetype": "text/x-python",
   "name": "python",
   "nbconvert_exporter": "python",
   "pygments_lexer": "ipython3",
   "version": "3.8.5"
  }
 },
 "nbformat": 4,
 "nbformat_minor": 4
}
