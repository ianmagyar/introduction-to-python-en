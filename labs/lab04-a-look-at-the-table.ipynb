{
 "cells": [
  {
   "cell_type": "markdown",
   "metadata": {},
   "source": [
    "# Lab 4: A look at the table"
   ]
  },
  {
   "cell_type": "markdown",
   "metadata": {},
   "source": [
    "In today's lab, we'll practice working with files and basic data structures in Python. The goal is to highlight typical use cases for these data structures, as well as the data processing workflow and possible division of tasks for structured solutions.\n",
    "\n",
    "Our sample example will be the processing of a list of football results and the generation of a league table based on these results. [At this link](sources/lab04/buli_results.txt) you will find a file named `buli_results.txt`, which contains the results of matches from the first 23 rounds of the German Bundesliga. Each line represents one match and has the form:\n",
    "\n",
    "`home_team_name home_goal_count - away_goal_count away_team_name`.\n",
    "\n",
    "As you can see in the file, most teams have a name that consists of multiple words or includes numbers, for example `1. FC Köln`. As is generally the case in football, the team that scores more goals wins the match and gets 3 points. If both teams score the same number of goals (or neither team scores a goal), they both leave the match with 1 point. Teams do not get a point for a loss. \n",
    "\n",
    "Your goal for today's lab is to generate a table from the file that looks approximately as follows:\n",
    "\n",
    "```\n",
    "|Rank|Team                    | G| W| D| L| GF| GA| P|\n",
    "------------------------------------------------------\n",
    "|   1|FC Bayern München       |23|14| 7| 2| 66| 22|49|\n",
    "|   2|Borussia Dortmund       |23|16| 1| 6| 47| 28|49|\n",
    "|   3|1. FC Union Berlin      |23|13| 5| 5| 35| 27|44|\n",
    "|   4|RB Leipzig              |23|12| 6| 5| 46| 29|42|\n",
    "|   5|SC Freiburg             |23|12| 6| 5| 35| 32|42|\n",
    "|   6|Eintracht Frankfurt     |22|11| 5| 6| 43| 31|38|\n",
    "|   7|1. FSV Mainz 05         |23|10| 5| 8| 38| 34|35|\n",
    "|   8|VfL Wolfsburg           |22| 9| 6| 7| 40| 29|33|\n",
    "|   9|Borussia Mönchengladbach|23| 8| 6| 9| 38| 39|30|\n",
    "|  10|SV Werder Bremen        |23| 9| 3|11| 35| 43|30|\n",
    "|  11|Bayer 04 Leverkusen     |22| 8| 4|10| 36| 36|28|\n",
    "|  12|1. FC Köln              |23| 6| 9| 8| 32| 36|27|\n",
    "|  13|FC Augsburg             |23| 8| 3|12| 28| 39|27|\n",
    "|  14|Hertha BSC              |22| 5| 5|12| 27| 40|20|\n",
    "|  15|VfB Stuttgart           |23| 4| 7|12| 28| 40|19|\n",
    "|  16|TSG 1899 Hoffenheim     |23| 5| 4|14| 29| 42|19|\n",
    "|  17|FC Schalke 04           |23| 4| 7|12| 18| 42|19|\n",
    "|  18|VfL Bochum              |23| 6| 1|16| 24| 56|19|\n",
    "```\n",
    "\n",
    "[You can find the skeleton of the solution here](sources/lab04/lab04.py), or you can work directly in this Jupyter notebook."
   ]
  },
  {
   "cell_type": "markdown",
   "metadata": {},
   "source": [
    "## 1. Loading from file\n",
    "\n",
    "The first task is to load the data from the results file. We are not processing these results yet, just loading them for further processing.\n",
    "\n",
    "**Task:** Implement the `load_results` function to load the contents of the file and return a list of strings, where one string represents one row from the file. The path to the file is passed to the function in the `file_path` parameter."
   ]
  },
  {
   "cell_type": "code",
   "execution_count": null,
   "metadata": {},
   "outputs": [],
   "source": [
    "def load_results(file_path):\n",
    "    # open file and read results from it\n",
    "    # returns a list of rows as strings\n",
    "    pass"
   ]
  },
  {
   "cell_type": "markdown",
   "metadata": {},
   "source": [
    "## 2. Loading results\n",
    "\n",
    "We already have a function to read the results from the file, but we have all the information in one string, which is not very helpful. When we create a table, we need to manipulate this data in different ways, which is why we need to retrieve the data that is important to us from the string representing a single row from the file, specifically, the names of the two teams, and the number of goals scored by them.\n",
    "\n",
    "Remember that each line contains this information in the order `home_team home_goals - away_team away_goals`. But team names are complicated, containing multiple words, and numbers, so we need to be careful when retrieving this data.\n",
    "\n",
    "**Task:** Implement the function `load_score` which has one parameter - `line`, which is a string: the line loaded from the file. The function will return a four values:\n",
    "* home team name: str\n",
    "* number of goals scored by the home team: int\n",
    "* name of the visiting team: str\n",
    "* number of goals scored by the away team: int"
   ]
  },
  {
   "cell_type": "code",
   "execution_count": null,
   "metadata": {},
   "outputs": [],
   "source": [
    "def load_score(line):\n",
    "    # loads score from a row as string\n",
    "    # returns a tuple of four values: home team name, home team goals\n",
    "    # away team name, away team goals\n",
    "    pass"
   ]
  },
  {
   "cell_type": "markdown",
   "metadata": {},
   "source": [
    "## 3. List of teams\n",
    "\n",
    "Before we start creating the table, we need to find out how many teams we have in the league and which ones they are. So far we have information on all the games, but individual teams are found multiple times in these records.\n",
    "\n",
    "**Task:** Implement the `get_team_list` function to return a list of the names of the teams in the league. It receives as a parameter a list of `scores` tuples, where one tuple is the output of the `load_score` function, so it represents the data for one match. You can write the function on a single line."
   ]
  },
  {
   "cell_type": "code",
   "execution_count": null,
   "metadata": {},
   "outputs": [],
   "source": [
    "def get_team_list(scores):\n",
    "    # returns a set of unique team names\n",
    "    pass"
   ]
  },
  {
   "cell_type": "markdown",
   "metadata": {},
   "source": [
    "## 4. Creating a table\n",
    "\n",
    "We already know how to read the data from the file, we can preprocess and convert the data into the necessary format, and we already have a list of teams in the league. There is nothing left for us to do but to generate a blank table for now, which we will gradually update based on the results of the matches.\n",
    "\n",
    "Of course we can represent the table in different ways, today we will choose a way where the table is represented as a list of dictionaries. Thus, for each team we will create a dictionary that will contain information about the team's performance in the season. Each dictionary should contain the following data:\n",
    "* team name (`Team`)\n",
    "* number of games played (`G`)\n",
    "* number of wins (`W`)\n",
    "* number of draws (`D`)\n",
    "* number of losses (`L`)\n",
    "* number of goals scored (`GF`)\n",
    "* number of goals conceded (`GA`)\n",
    "* number of points scored (`P`).\n",
    "\n",
    "**Task:** Implement the `create_table` function to generate an empty table for the league based on the list of team names in the league `team_names`. The function will return a list of dictionaries, with the dictionaries containing only team names for now. For the other data stored in the dictionaries, choose appropriate starting values."
   ]
  },
  {
   "cell_type": "code",
   "execution_count": null,
   "metadata": {},
   "outputs": [],
   "source": [
    "def create_table(team_names):\n",
    "    # creates an empty table with team names\n",
    "    # there is one dictionary for every team with the following info:\n",
    "    # team name, number of games played, number of wins, number of draws\n",
    "    # number of losses, number of goals scored, number of goals conceeded\n",
    "    # number of points\n",
    "    pass"
   ]
  },
  {
   "cell_type": "markdown",
   "metadata": {},
   "source": [
    "## 5. Searching the table\n",
    "\n",
    "We will soon get to processing the results and populating the table with useful data, but before that we need to implement two helper functions.\n",
    "\n",
    "The first one handles searching the table by team name and returns the dictionary for that team. If it does not find an entry for the corresponding team, the function returns `None`.\n",
    "\n",
    "**Task:** Implement the function `get_team_row`, which finds an entry for the team `team_name` in the table `table`. If no such record exists, the function will return `None`."
   ]
  },
  {
   "cell_type": "code",
   "execution_count": null,
   "metadata": {},
   "outputs": [],
   "source": [
    "def get_team_row(table, team_name):\n",
    "    # finds the dictionary corresponding to the team in a table\n",
    "    pass"
   ]
  },
  {
   "cell_type": "markdown",
   "metadata": {},
   "source": [
    "## 6. Calculating points\n",
    "\n",
    "The second helper function will be responsible for calculating the points earned by a team by going through the table and calculating the number of points for each team. Remember that a team gets 3 points for a win and 1 for a draw.\n",
    "\n",
    "**Task:** Implement the `update_points` function to update the number of points earned by each team in `table`. The function has no return value, it modifies the table directly."
   ]
  },
  {
   "cell_type": "code",
   "execution_count": null,
   "metadata": {},
   "outputs": [],
   "source": [
    "def update_points(table):\n",
    "    # calculates the team's points based on number of wins, draws, losses\n",
    "    pass"
   ]
  },
  {
   "cell_type": "markdown",
   "metadata": {},
   "source": [
    "## 7. Updating the table\n",
    "\n",
    "Now nothing prevents us from filling the table with real data. However, starting to process all the results at once would be rather unwise, so first of all we create a function that processes the result of one match and updates the table.\n",
    "\n",
    "**Task:** Implement the function `add_match_to_table` that processes the result of one match and updates the table according to the result. The function takes two parameters: `table` is a list representing the table, and `match_info` is a tuple of values - the return value from the `load_score` function (step 2). The function takes the match information and uses it to update the data in the table for the two teams. It does not have a return value, it modifies the table directly."
   ]
  },
  {
   "cell_type": "code",
   "execution_count": null,
   "metadata": {},
   "outputs": [],
   "source": [
    "def add_match_to_table(table, match_info):\n",
    "    # updates table based on a match result\n",
    "    # input is a list representing the table and\n",
    "    # a tuple representing the match result\n",
    "    # updates table directly, returns nothing\n",
    "    pass"
   ]
  },
  {
   "cell_type": "markdown",
   "metadata": {},
   "source": [
    "## 8. Filling the table with data\n",
    "\n",
    "And now the time is finally ripe for our megafunction that takes the results stored in the file and generates a table from them. Of course, in doing so, we'll use the functions already implemented in steps 1-7.\n",
    "\n",
    "**Task:** Implement the function `generate_table`, which takes one parameter: the path to the football results file (`results_file_path`). The function reads the data from this file, generates a table, and then populates this table with the data according to the results. The function returns a table, that is, a list of dictionaries."
   ]
  },
  {
   "cell_type": "code",
   "execution_count": null,
   "metadata": {},
   "outputs": [],
   "source": [
    "def generate_table(results_file_path):\n",
    "    # gets path to file with results\n",
    "    # generates table and fills it with values based on match results\n",
    "    # returns the table as a list of dictionaries\n",
    "    pass"
   ]
  },
  {
   "cell_type": "markdown",
   "metadata": {},
   "source": [
    "## 9. Printing the table\n",
    "\n",
    "Your implementation of the `generate_table` function is no doubt great, but the output is not very readable. That's why we'll create another function that takes a table of data and outputs it in a form that's more human-readable.\n",
    "\n",
    "**Task:** Implement the function `print_table` that takes a table, i.e. a list of dictionaries, as a parameter (`table`) and prints it to standard output as a readable table. You can take inspiration from the table in the introduction of the exercise to generate the output."
   ]
  },
  {
   "cell_type": "code",
   "execution_count": null,
   "metadata": {},
   "outputs": [],
   "source": [
    "def print_table(table):\n",
    "    # prints table in a user-friendly way\n",
    "    # columns:\n",
    "    # rank, team, games, wins, draws, losses, goals for, goals against, points\n",
    "    # does not return anything\n",
    "    pass"
   ]
  },
  {
   "cell_type": "markdown",
   "metadata": {},
   "source": [
    "## 10. Sorting the table\n",
    "\n",
    "If you try your solution several times, you will notice that the order of the teams in the table is more or less random (it depends on the order in which the teams are added to the table). That's why we implement one more function that sorts the teams according to a condition. In football tables, teams are sorted according to the number of points, the goal difference (number of goals scored - number of goals conceded), and the number of matches won.\n",
    "\n",
    "**Task:** Implement the function `sort_table` that sorts the teams in the table according to the ranking rules; use existing Python functions to do this. The function returns a sorted table and takes one parameter - the table it needs to sort. Use the following rules to determine the order of the teams:\n",
    "1. number of points;\n",
    "2. goal difference (number of goals scored - number of goals conceded)\n",
    "3. number of matches won.\n",
    "\n",
    "**Note:** For our purposes this will not be necessary, but there are other rules for determining the ranking of teams if the top three indicators are exactly the same. You may wish to study them to expand your solution."
   ]
  },
  {
   "cell_type": "code",
   "execution_count": null,
   "metadata": {},
   "outputs": [],
   "source": [
    "def sort_table(table):\n",
    "    # sorts table based on a key, returns a copy of the table\n",
    "    pass"
   ]
  },
  {
   "cell_type": "markdown",
   "metadata": {},
   "source": [
    "## 11. Let's put it all together\n",
    "\n",
    "Now that we have all the functions implemented, we can combine them to test how our program works. By calling the last three functions in sequence, we can output a table from the results file. Our solution is even generic, i.e. you can use it for any file as long as the results format is followed."
   ]
  },
  {
   "cell_type": "code",
   "execution_count": null,
   "metadata": {},
   "outputs": [],
   "source": [
    "table = generate_table(\"buli_results.txt\")\n",
    "\n",
    "table = sort_table(table)\n",
    "\n",
    "print_table(table)"
   ]
  },
  {
   "cell_type": "markdown",
   "metadata": {},
   "source": [
    "You can also test your implementation on results from the English Premier League (file [`pl_results.txt`](sources/lab04/pl_results.txt)), the Spanish La Liga ([`laliga_results.txt`](sources/lab04/laliga_results.txt)), the Italian Serie A ([`seriea_results.txt`](sources/lab04/seriea_results.txt)), or you can create your own results file while keeping the format."
   ]
  },
  {
   "cell_type": "markdown",
   "metadata": {},
   "source": [
    "## Additional tasks\n",
    "\n",
    "1. Extend the table by a goal difference column (goal difference `GD = GF - GA`).\n",
    "2. Modify the `sort_table` function so that the table can be sorted according to selected parameters.\n",
    "3. Add a function to save the table to a file in [csv format](https://en.wikipedia.org/wiki/Comma-separated_values).\n",
    "4. In some sports such as ice hockey, matches cannot end in a draw. In a tie after regulation time, the match goes to extra time, such a match result can be entered as `home 2e - 1 away`, for example, where `e` represents a win after extra time. Design and implement a method for handling such results. You can use match results from the Slovak Extraliga (file [`extraliga_results.txt`](sources/lab04/extraliga_results.txt)) as sample input. In the Extraliga, a team gets 3 points for a regulation time win, 2 points for an overtime win, 1 point for an overtime loss, and no points for a regulation time loss."
   ]
  }
 ],
 "metadata": {
  "kernelspec": {
   "display_name": "Python 3",
   "language": "python",
   "name": "python3"
  },
  "language_info": {
   "codemirror_mode": {
    "name": "ipython",
    "version": 3
   },
   "file_extension": ".py",
   "mimetype": "text/x-python",
   "name": "python",
   "nbconvert_exporter": "python",
   "pygments_lexer": "ipython3",
   "version": "3.8.5"
  }
 },
 "nbformat": 4,
 "nbformat_minor": 4
}
