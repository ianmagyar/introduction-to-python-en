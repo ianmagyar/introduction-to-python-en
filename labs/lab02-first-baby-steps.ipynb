{
 "cells": [
  {
   "cell_type": "markdown",
   "metadata": {},
   "source": [
    "# Lab 2: First steps in Python"
   ]
  },
  {
   "cell_type": "markdown",
   "metadata": {},
   "source": [
    "In today's lab we will get acquinted with the basic constructs of Python and we will write our first simple programs. The goal of the lab is to learn to work with standard input and output, primitive types, basic operations, and with branches and loops.\n",
    "\n",
    "You can code in your selected IDE or directly in this Jupyter notebook."
   ]
  },
  {
   "cell_type": "markdown",
   "metadata": {},
   "source": [
    "## 1. Hello, world!\n",
    "\n",
    "Traditionally the first program that any beginner will code in any programming language is *Hello, world!*. Its history goes back to the 70s, when Brian W. Kernighan and Dennis M. Ritchie used it in their textbook for C called *The C Programming Language* (1978). Kernighan used the program earlier, in 1974 at Bell Laboratories. The overall first use for teaching purposes was in 1972, in Kernighan's book called *A Tutorial Introduction to the Language B*.\n",
    "\n",
    "As you already know, in C we use the `printf` function for output, which can also format the output. Python is in this regard more universal, since it does a large part of formatting for you, you can enter the string directly, or any values that you want to print out. In Python we use the [`print`](https://docs.python.org/3/library/functions.html#print) function for output.\n",
    "\n",
    "**Exercise:** Implement a simple program that prints the string *Hello, world!* to the output. You join the long line of programmers and their endeavor to master a new programming language."
   ]
  },
  {
   "cell_type": "code",
   "execution_count": null,
   "metadata": {},
   "outputs": [],
   "source": [
    "# implement Hello, world! here\n"
   ]
  },
  {
   "cell_type": "markdown",
   "metadata": {},
   "source": [
    "## 2. Hello, ...!\n",
    "\n",
    "In the next step we will personalize our solution, and you will teach your computer to greet you (or anyone else). Amend your code in such a way that it first asks the user for their name, and then prints the greeting *Hello, _* where instead of *_* it will print the name entered.\n",
    "\n",
    "For the standard input we use the [`input`](https://docs.python.org/3/library/functions.html#input) function, which has one optional parameter: a prompt that will be printed and lets the user know what sort of input is expected. The function returns the entered data as a string. In our program we must store this value in a helper variable.\n",
    "\n",
    "**Exercise:** Implement a simple program, that asks the user for their name, and then greets them with the string *Hello, _!*. There are multiple ways of formatting the output, [you can read through them here](https://docs.python.org/3/tutorial/inputoutput.html#fancier-output-formatting)."
   ]
  },
  {
   "cell_type": "code",
   "execution_count": null,
   "metadata": {},
   "outputs": [],
   "source": [
    "# ask the user for their name\n",
    "\n",
    "# write Hello, ...!\n"
   ]
  },
  {
   "cell_type": "markdown",
   "metadata": {},
   "source": [
    "## 3. Calculating the square\n",
    "\n",
    "**Exercise:** Write a program that reads a number from the input (integer or float) and prints its square. Try out both basic ways of calculating the square: multiplication (operator `*`) and exponentiation (operator `**`)."
   ]
  },
  {
   "cell_type": "code",
   "execution_count": null,
   "metadata": {},
   "outputs": [],
   "source": [
    "# ask the user to enter a number\n",
    "\n",
    "# print the square of the number\n"
   ]
  },
  {
   "cell_type": "markdown",
   "metadata": {},
   "source": [
    "**Exercise:** Amend your solution so that it rounds the result to three decimal places in the output."
   ]
  },
  {
   "cell_type": "markdown",
   "metadata": {},
   "source": [
    "## 4. Number parity\n",
    "\n",
    "In our programs we often have to process values in different ways based on their characteristics. To be ready for this possibility, we will now write a program that determines whether a number given by the user is even or odd.\n",
    "\n",
    "**Exercise:** Implement a program that reads a number from the input and then prints if the number is even or odd."
   ]
  },
  {
   "cell_type": "code",
   "execution_count": null,
   "metadata": {},
   "outputs": [],
   "source": [
    "# ask the user to enter an integer\n",
    "\n",
    "# print even if number is even, odd if number is odd\n"
   ]
  },
  {
   "cell_type": "markdown",
   "metadata": {},
   "source": [
    "## 5. Common divisors\n",
    "\n",
    "If we always had to work with only one value in our programs, the life of a programmer would be without stress. The reality is however different, and therefore we must accept the fact that our programs are filled with different values and variables. For now we will spare you and we will write a program that takes two numbers as input from the user. After this, the program will print every common divisor of these two numbers. Before we start programming, consider different possible ways of solving the problem (for now don't worry about implementing it in Python).\n",
    "\n",
    "**Exercise:** Implement a program that reads two integers from the input and prints all of their common divisors, i.e. numbers that give a remainder of 0 after integer division for both of them."
   ]
  },
  {
   "cell_type": "code",
   "execution_count": null,
   "metadata": {},
   "outputs": [],
   "source": [
    "# ask the user to enter two integers\n",
    "\n",
    "# print all common divisors of the two numbers\n"
   ]
  },
  {
   "cell_type": "markdown",
   "metadata": {},
   "source": [
    "## 6. Finding primes\n",
    "\n",
    "In the previous examples we searched for even and odd numbers, and for divisors. Finding primes however is a slightly harder task, but we are certain that you will deal with it with no problem at all. Just a quick reminder: prime numbers are numbers that have only two divisors: 1 and themselves.\n",
    "\n",
    "**Exercise:** Implement a program that reads an integer from the input and then prints if the number is or isn't a prime."
   ]
  },
  {
   "cell_type": "code",
   "execution_count": null,
   "metadata": {},
   "outputs": [],
   "source": [
    "# ask the user to input an integer\n",
    "\n",
    "# print if number is prime or not\n"
   ]
  }
 ],
 "metadata": {
  "kernelspec": {
   "display_name": "Python 3",
   "language": "python",
   "name": "python3"
  },
  "language_info": {
   "codemirror_mode": {
    "name": "ipython",
    "version": 3
   },
   "file_extension": ".py",
   "mimetype": "text/x-python",
   "name": "python",
   "nbconvert_exporter": "python",
   "pygments_lexer": "ipython3",
   "version": "3.8.5"
  }
 },
 "nbformat": 4,
 "nbformat_minor": 4
}
