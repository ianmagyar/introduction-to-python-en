{
 "cells": [
  {
   "cell_type": "markdown",
   "metadata": {},
   "source": [
    "# Lab 8: Probability of winning at poker\n",
    "\n",
    "In today's lab, we'll demonstrate the principles of object-oriented programming on the problem of predicting the probability of winning in the game of poker, specifically the Texas hold 'em variant. The goal in poker is to get the strongest possible five cards according to defined rules. In hold 'em, each player is dealt two cards in his hand, and then five cards are successively laid on the table, which are the same for each player. The winner is determined by each person choosing the best combination of the five cards from the seven available (five on the table, two in hand) and these combinations are compared.\n",
    "\n",
    "In Texas hold 'em, the following combinations are recognized (in descending order from the strongest):\n",
    " 1. Royal Flush - a straight of 10 J Q K A of the same suit\n",
    " 2. Straight Flush - any five-card straight of the same suit\n",
    " 3. Four of a Kind - four cards of the same rank\n",
    " 4. Full House - a three of a kind and a pair of cards of the same rank\n",
    " 5. Flush - five cards of the same suit\n",
    " 6. Straight - a straight of cards of different suits\n",
    " 7. Three of a Kind - a trio of cards of the same rank\n",
    " 8. Two Pairs - two pairs of cards of the same rank\n",
    " 9. One Pair - a pair of cards of the same rank\n",
    " 10. High Card - if neither player has a combination, the player with the highest value card wins (cards are ranked 2 - A)\n",
    "\n",
    "So if you have a Royal Flush, you are guaranteed to win. If two players have a hand at the same level, it will also be decided based on the high card. For example, if we have two players with two pairs of 10s and 9s, and one has an extra Q while the other has an 8, the first player wins (he has the higher card). If, in addition to the pairs, both would have a card of the same value, a tie would occur.\n",
    "\n",
    "For simplicity's sake, we will consider only one single moment in the poker game, namely the moment when we have already laid four cards on the table and we know the cards held by the players. This leaves us with 44 possible outcomes (one of the unused cards will be placed on the table). The goal will be to determine the probability that Player 1 wins, Player 2 wins, or there is a tie (quite unlikely in poker). We can calculate the probability of each player winning by simulating all possible outcomes of the game, i.e. who wins if we put the first available card on the table? who wins if we put the second available card on the table? etc. For each possible outcome, both players make the strongest possible combinations from the five cards on the table and the two cards they hold in their hand. The two players' combinations are then compared, and the player with the stronger combination wins.\n",
    "\n",
    "Of course, we could also use native Python data structures to represent the game situation, but this is not a completely natural way to do it. That's why today we're going to create our own representations that are more similar to how we think about this game.\n",
    "\n",
    "Specifically, we will work with five concepts or classes:\n",
    "\n",
    "* `Card` - represents a card that has a color and a value;\n",
    "* `Deck` - a deck of cards;\n",
    "* `Hand` - a group of five cards, defining different combinations for poker;\n",
    "* `Player` - a player who holds two cards in his hand;\n",
    "* `Game` - the game itself, which covers the entire functionality of the simulation.\n",
    "\n",
    "The emphasis will not be on the algorithmic solution itself, but on the design of the object solution. We need to design the structure, i.e. which class will be responsible for which part of the functionality, before going into the actual implementation. In doing so, we will implement the following functionality to solve each subproblem:\n",
    "\n",
    "* `generate_setup` - prepares the game situation, determines which cards the players will have, and which cards will be on the table;\n",
    "* `is_royal_flush`, `is_straight_flush`, `is_four_of_a_kind`, `is_full_house`, `is_flush`, `is_straight`, `is_three_of_a_kind`, `is_two_pairs`, `is_pair` - detects whether a five-card hand satisfies the conditions of each hand;\n",
    "* `evaluate_hand` - evaluates the five cards (finds the strongest hand and the value of the relevant cards);\n",
    "* `compare_highest_card` - compares two handfuls of cards based on the highest card value;\n",
    "* `find_better` - finds the better five cards;\n",
    "* `get_all_combinations` - generates a list of all possible combinations a player can have based on the available cards;\n",
    "* `select_best` - finds the strongest five that the player can combine from the available cards;\n",
    "* `calculate_chances` - calculates the probability of each possible outcome of the game.\n",
    "\n",
    "If you have a finished design, [download the skeleton solution](sources/lab08/lab08.zip) and familiarize yourself with the code. Focus mainly on the member variables and the form of data representation."
   ]
  },
  {
   "cell_type": "markdown",
   "metadata": {},
   "source": [
    "## Complete classes\n",
    "\n",
    "In the solution you will find three already fully implemented classes, namely `Card`, `Deck` and `Hand`.\n",
    "\n",
    "`Card` is a helper class for representing a playing card. While without custom classes we could represent cards as a pair of values suite (of type `string`) and value (of type `int`), we prefer to store these values in member variables `suit` and `value` (of the same types). The class further defines the standard methods `__str__`, which generates a string representation of a card; `__eq__`, which compares two objects of type `Card`; and `__gt__`, which also handles the comparison but the inequality of two cards. The `__str__` method allows us to use the `print` function over a card, the `__eq__` method allows us to compare cards using the `==` operator, and the `__gt__` method corresponds to the `>` operator. Since the class defines two comparison operators, we can use the others (`>=`, `!=`, `<`, etc.).\n",
    "\n",
    "The second class is `Deck`, which defines a deck of cards (member variable `all_cards`), and keeps track of which cards have already been used (member variable `used_cards`), and which ones we can still use within the game (`available_cards`). Next, it defines the method `generate_setup`, which generates a game situation with two players and four cards on the table.\n",
    "\n",
    "The next class, `Hand`, defines a five-card deck that the player combines from the available cards. The five is represented as a list of five objects of type `Card`. The class defines methods for evaluating the fist (`evaluate_hand` and `is_...`). As with cards, we have defined the functions `__eq__` and `__gt__` for simple comparison of two hands of cards.\n",
    "\n",
    "The `main.py` file that defines the simulation of the game is also ready."
   ]
  },
  {
   "cell_type": "markdown",
   "metadata": {},
   "source": [
    "## Class `Player`\n",
    "\n",
    "In this step we will implement the `Player` class, the class representing the player. The class has one member variable, `hand`, which holds a list of two cards that the player holds in his hand. The `deal_hand` method populates this variable with values based on the cards dealt.\n",
    "\n",
    "**Task**: Implement the `get_all_combinations` method, which will generate all possible fives of the player's cards. The method takes three parameters, which are the lists of cards on the table. The return value is the list of card fives represented as `Hand`.\n",
    "\n",
    "**Task**: Implement the `get_best_hand` method, which finds and returns the strongest five of cards (of type `Hand`). The method takes the same parameters as `get_all_combinations`. Remember that you can compare objects of type `Hand` using standard operators."
   ]
  },
  {
   "cell_type": "markdown",
   "metadata": {},
   "source": [
    "## Class `Game`\n",
    "\n",
    "We have the last class `Game` to implement, which covers the overall functionality. A deck of cards is created in the constructor, and two players are added. Implement the missing methods:\n",
    "\n",
    "* `prepare_setup` - generate the initial game situation, and set up the cards in the player's hands (use existing methods of the other classes); also store the list of cards on the table.\n",
    "* `find_winner` - finds the winner based on the `river` card given as a parameter. The method returns 1 if player 1 wins, 0 if there is a tie, and -1 if player 2 wins.\n",
    "* `calculate_chances` - the main function of the class, calculates the probability of each game outcome and returns three values: the probability of player 1 winning, the probability of a tie, and the probability of player 2 winning."
   ]
  },
  {
   "cell_type": "markdown",
   "metadata": {},
   "source": [
    "## Testing the solution\n",
    "\n",
    "You can test your solution using the `main` function in `main.py`."
   ]
  }
 ],
 "metadata": {
  "kernelspec": {
   "display_name": "Python 3 (ipykernel)",
   "language": "python",
   "name": "python3"
  },
  "language_info": {
   "codemirror_mode": {
    "name": "ipython",
    "version": 3
   },
   "file_extension": ".py",
   "mimetype": "text/x-python",
   "name": "python",
   "nbconvert_exporter": "python",
   "pygments_lexer": "ipython3",
   "version": "3.9.12"
  }
 },
 "nbformat": 4,
 "nbformat_minor": 2
}
