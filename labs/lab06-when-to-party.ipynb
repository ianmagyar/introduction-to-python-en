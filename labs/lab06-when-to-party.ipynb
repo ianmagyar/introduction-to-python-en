{
 "cells": [
  {
   "cell_type": "markdown",
   "metadata": {},
   "source": [
    "# Lab 6: When to party?\n",
    "\n",
    "We don't know how many of you have experienced Jedlička, but we can probably agree that the start of a new semester should be celebrated properly. Normally, Jedlička is the best place to do this in Košice, and since the school's job is also to prepare you for life's tough decisions, for today's exercise we're going to focus on a question of huge importance: what time should you go to this great party?\n",
    "\n",
    "Of course no student is going to say no to a party, but on the other hand, you are all responsible (or so we assume for the duration of this exercise) and you know that the day after Jedlička you have to be at no less important lectures and labs, which is why you have decided to come to Jedlička for only one hour. So the question is, when to do it?\n",
    "\n",
    "To effectively solve this dilemma, you asked your friends when they will go to Jedlička, and since they too are responsible, you found out that each of them will be at the party for only a few hours. Your task is to choose the most convenient hour when you will meet most of your friends, based on the list of times when your friends will be at Jedlička. For reasons as of yet unknown, you decided to implement a simple Python program to solve the problem.\n",
    "\n",
    "The input to the algorithm is a list of the intervals at which your friends will be at Jedlička. Each interval is represented by two numbers `start` and `end`, where we consider the interval closed from the left and open from the right: `<start, end)`. This means that if you arrive at Jedlička at time `start`, you will certainly meet the friend in question, but the person in question will not be at the party at time `end`. (The Swiss government has supported each of your classmates with a watch so that you can be sure that the given intervals are observed by everyone with one hundred percent certainty.)\n",
    "\n",
    "Take the list below as an example:\n",
    "\n",
    "| Name  | Arriving | Leaving |\n",
    "|-------|-------|-------|\n",
    "| Matt  | 9 | 10 |\n",
    "| Tom   | 10 | 12 |\n",
    "| Jerry | 10 | 1 |\n",
    "| Kate  | 11 | 1 |\n",
    "| Paul  | 8 | 11 |\n",
    "| Dan   | 10 | 11 |\n",
    "| Mary  | 12 | 2 |\n",
    "\n",
    "In this case, it is most expedient to come at 10 when you meet Tom, Jerry, Paul and Dan. For more sample examples in code form ([check out the the solution skeleton](sources/lab06/lab06.py)):"
   ]
  },
  {
   "cell_type": "code",
   "execution_count": null,
   "metadata": {},
   "outputs": [],
   "source": [
    "test_intervals1 = [\n",
    "    ('Dan', 7, 9),\n",
    "    ('Paul', 8, 11),\n",
    "    ('Julie', 10, 12),\n",
    "    ('Jerry', 9, 1),\n",
    "    ('Lewis', 11, 12),\n",
    "    ('Mark', 10, 12),\n",
    "    ('Nate', 9, 11),\n",
    "    ('Ruby', 8, 10),\n",
    "    ('Marge', 7, 8),\n",
    "    ('Pete', 9, 11)\n",
    "]\n",
    "test_intervals2 = [\n",
    "    ('Dan', 10, 12),\n",
    "    ('Paul', 9, 12),\n",
    "    ('Julie', 10, 12),\n",
    "    ('Jerry', 9, 1),\n",
    "    ('Lewis', 10, 11),\n",
    "    ('Mark', 11, 2),\n",
    "    ('Nate', 10, 1),\n",
    "    ('Ruby', 9, 12),\n",
    "    ('Marge', 9, 11),\n",
    "    ('Pete', 9, 1),\n",
    "    ('Jen', 10, 12),\n",
    "    ('Rob', 10, 11),\n",
    "    ('Matt', 11, 3),\n",
    "    ('Brandon', 10, 1),\n",
    "    ('Dave', 9, 11)\n",
    "]"
   ]
  },
  {
   "cell_type": "markdown",
   "metadata": {},
   "source": [
    "## 1. Interval preprocessing\n",
    "\n",
    "Before we start looking for the optimal time to party, we need to preprocess our data. Firstly, the lists contain unnecessary information (names) and secondly, it may happen that we have mistakenly entered invalid data (missing data, wrong type). We have to treat all these possibilities before finding the answer to our question.\n",
    "\n",
    "**Task:** Implement the function `load_intervals`, which takes one parameter, namely a list of tuples of the form above. The function returns one value, namely a list of intervals represented as tuples. The function will check the validity of the entered data and alert the user in case of discrepancies. To make the hours easier to work with, also correct the times after midnight to be as if they were in the afternoon: 1 --> 13, 2 --> 14, etc."
   ]
  },
  {
   "cell_type": "code",
   "execution_count": null,
   "metadata": {},
   "outputs": [],
   "source": [
    "def load_intervals(intervals):\n",
    "    # returns a list of intervals as tuples\n",
    "    pass"
   ]
  },
  {
   "cell_type": "markdown",
   "metadata": {},
   "source": [
    "## 2. Finding the right time to party\n",
    "\n",
    "As often in programming, an appropriate representation of the problem will greatly assist you in solving it. In this step, you implement a function that finds the best time to visit (when you meet the most friends). In this case, the intervals can be thought of as follows:\n",
    "\n",
    "![](sources/lab06/sample_representation.jpg)\n",
    "\n",
    "where we are looking for the vertical line with the largest number of solid rings and intersections.\n",
    "\n",
    "**Task:** Implement the function `choose_time` that takes one parameter (a list of tuples representing visit intervals as from the function `load_intervals`) and returns two values: the most convenient time to visit Jedlička (an hour) and the number of friends present at that time."
   ]
  },
  {
   "cell_type": "code",
   "execution_count": null,
   "metadata": {},
   "outputs": [],
   "source": [
    "def choose_time(interval_list):\n",
    "    # return best time to party and number of friends present\n",
    "    pass"
   ]
  },
  {
   "cell_type": "markdown",
   "metadata": {},
   "source": [
    "## 3. Solving the problem\n",
    "\n",
    "We subtly divided our task into two parts: preprocessing the data and finding a solution. To make the program easier to use, we will now create a single function that will provide the entire solution process and serve as the main function in solving the problem.\n",
    "\n",
    "**Task:** Implement the function `when_to_go`, which has only one parameter, namely a list of intervals including the names of friends. The function preprocesses this input and then calls the `choose_time` function. At the end of the call, the function outputs a message with the solution in the form of, for example, `The best time to attend is at 10 o'clock when you'll meet 4 of your friends.` Before printing, you need to convert the hours back to their original form: 13 --> 1, and so on."
   ]
  },
  {
   "cell_type": "code",
   "execution_count": null,
   "metadata": {},
   "outputs": [],
   "source": [
    "def when_to_go(friends_list):\n",
    "    # process intervals from list\n",
    "    # call function to calculate best time for party\n",
    "    # print results\n",
    "    pass"
   ]
  },
  {
   "cell_type": "markdown",
   "metadata": {},
   "source": [
    "## 4. New requirements\n",
    "\n",
    "While testing your solution, you found out that the program recommends times when you would prefer to be asleep in a comfortable bed. So, modify the search so that it only looks for the time of your Jedlička visit in the interval you specify.\n",
    "\n",
    "**Task:** Implement the function `choose_time_constrained`, which takes three parameters: a list of intervals (from `load_intervals`) along with the earliest and latest acceptable value for a visit to Jedlička. For example, when calling `choose_time_constrained(interval_list, 9, 11)`, the function looks for solutions only from the interval `<9, 11)`. You can take inspiration from the `choose_time` function to find the solution."
   ]
  },
  {
   "cell_type": "code",
   "execution_count": null,
   "metadata": {},
   "outputs": [],
   "source": [
    "def choose_time_constrained(interval_list, y_start, y_end):\n",
    "    # return best time to party and number of friends present\n",
    "    # look only in interval <y_start, y_end)\n",
    "    pass"
   ]
  },
  {
   "cell_type": "markdown",
   "metadata": {},
   "source": [
    "**Task:** Extend the `when_to_go` function with two parameters, `y_start` and `y_end`, assigning default values to these parameters. If these default values are left unchanged, the `choose_time` function is called; if the user specifies search limits, the `choose_time_constrained` function is called."
   ]
  },
  {
   "cell_type": "markdown",
   "metadata": {},
   "source": [
    "## 5. Favouring friends\n",
    "\n",
    "The fact is that you have friends that you would much rather meet at Jedlička than others. In the skeleton of the solution, you will find a second type of interval list that is augmented by one value, namely a weight that represents how much you would like to see that person at the party."
   ]
  },
  {
   "cell_type": "code",
   "execution_count": 1,
   "metadata": {},
   "outputs": [],
   "source": [
    "test_intervals_weights = [\n",
    "    ('Dan', 8, 10, 1),\n",
    "    ('Paul', 8, 11, 2),\n",
    "    ('Julie', 8, 9, 3),\n",
    "    ('Jerry', 11, 1, 4),\n",
    "    ('Lewis', 9, 12, 2),\n",
    "    ('Mark', 10, 12, 2),\n",
    "    ('Nate', 10, 3, 1),\n",
    "    ('Ruby', 11, 12, 2),\n",
    "    ('Marge', 10, 12, 1),\n",
    "    ('Pete', 8, 11, 2)\n",
    "]"
   ]
  },
  {
   "cell_type": "markdown",
   "metadata": {},
   "source": [
    "**Task:** Modify the `load_intervals` function so that it can handle inputs of both types (with three or four values per record). The return value will not change, only the tuples will contain one more value.\n",
    "\n",
    "**Task:** Implement the `choose_time_with_weights` function that determines the most appropriate visit time based not on the number of friends, but on the sum of their weights. The function returns two values: the most convenient time for visiting the party and the total weight, i.e. the preference. Again, you only need to slightly modify the implementation of the `choose_time` function."
   ]
  },
  {
   "cell_type": "code",
   "execution_count": null,
   "metadata": {},
   "outputs": [],
   "source": [
    "def choose_time_with_weights(interval_list):\n",
    "    # return best time to party and total weight\n",
    "    pass"
   ]
  },
  {
   "cell_type": "markdown",
   "metadata": {},
   "source": [
    "**Task:** Modify the `when_to_go` function to call the `choose_time_with_weights` function if the tuples in the list of intervals also contain a weight. Also edit the output in this case to read `The best time to attend is at 12 o'clock when you'll meet friends with a weight of 6.`"
   ]
  }
 ],
 "metadata": {
  "kernelspec": {
   "display_name": "Python 3 (ipykernel)",
   "language": "python",
   "name": "python3"
  },
  "language_info": {
   "codemirror_mode": {
    "name": "ipython",
    "version": 3
   },
   "file_extension": ".py",
   "mimetype": "text/x-python",
   "name": "python",
   "nbconvert_exporter": "python",
   "pygments_lexer": "ipython3",
   "version": "3.9.12"
  }
 },
 "nbformat": 4,
 "nbformat_minor": 4
}
