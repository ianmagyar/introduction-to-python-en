{
 "cells": [
  {
   "cell_type": "markdown",
   "metadata": {},
   "source": [
    "# Lab 3: Functions and algorithmization\n",
    "\n",
    "In the previous lab, we wrote our first programs in Python, which used standard input and output. However, more complex programs pass values without the knowledge or intervention of the user, and for this purpose, functions are used. In today's lab, we will create several functions while continuing to solve simple algorithmization problems."
   ]
  },
  {
   "cell_type": "markdown",
   "metadata": {},
   "source": [
    "## 1. Searching for primes\n",
    "\n",
    "Last week, we already implemented a simple code that determined whether the number entered by the user was a prime number or not. Although our solution was functional and elegant, we wouldn't be able to use it in real deployment. Imagine that we have to write a long code in which we need to determine several times whether a number is a prime number. We would have to copy this part of the code several times, and what's worse, if we found errors in our code during development (which of course will never happen to us), we would have to fix it in several places. This is precisely why we use functions that we can call as many times as we want without having to write the same code multiple times, and thanks to that, we can modify the function as we want without much effort. At the beginning of today's lab, we will create a function from the code from last week.\n",
    "\n",
    "**Task:** Implement the function `is_prime()` that has one parameter - an integer. The function returns `True` if the entered number is a prime number and `False` otherwise."
   ]
  },
  {
   "cell_type": "code",
   "execution_count": null,
   "metadata": {},
   "outputs": [],
   "source": [
    "def is_prime(number):\n",
    "    # returns True if number is prime; False otherwise\n",
    "    pass\n",
    "\n",
    "print(is_prime(13))\n",
    "print(is_prime(9))"
   ]
  },
  {
   "cell_type": "markdown",
   "metadata": {},
   "source": [
    "## 2. Sum of multiples\n",
    "\n",
    "Most functions, of course, have multiple parameters. As an example of such functions, we will now implement the `get_sum_of_multiples()` function. This function returns the sum of multiples of any number from a certain interval. The function has two parameters:\n",
    "* `max_number` - the maximum value of the search interval;\n",
    "* `number` - the number whose multiples we are looking for.\n",
    "\n",
    "**Task:** Implement the function `get_sum_of_multiples()` that returns the sum of multiples of the number within the closed interval `<1, max_number>`. The function has one return value - an integer representing the sum of multiples."
   ]
  },
  {
   "cell_type": "code",
   "execution_count": null,
   "metadata": {},
   "outputs": [],
   "source": [
    "def get_sum_of_multiples(max_number, number):\n",
    "    # returns the sum of all multiples of number from the interval [1, max_number]\n",
    "    pass\n",
    "\n",
    "# returns the sum of all multiples of 5 from the interval [1, 1000]\n",
    "print(get_sum_of_multiples(1000, 5))"
   ]
  },
  {
   "cell_type": "markdown",
   "metadata": {},
   "source": [
    "## 3. In search for triangles\n",
    "\n",
    "When programming, it's often necessary to check certain values before using them and determine if they're valid. An example of such a function is `is_triangle()`, which has three parameters representing the lengths of the sides of a triangle. Our task is to determine if it's possible to construct a triangle with these sides. The condition for constructing a triangle is that no side can be longer than the sum of the lengths of the other two sides.\n",
    "\n",
    "**Task:** Implement the `is_triangle()` function, which returns `True` if it's possible to construct a triangle with side lengths specified by the parameters `a`, `b`, and `c`. Otherwise, the function returns `False`."
   ]
  },
  {
   "cell_type": "code",
   "execution_count": null,
   "metadata": {},
   "outputs": [],
   "source": [
    "def is_triangle(a, b, c):\n",
    "    # returns True if a, b, c represent the lengths of a valid triangle\n",
    "    pass\n",
    "\n",
    "print(is_triangle(3, 4, 5))"
   ]
  },
  {
   "cell_type": "markdown",
   "metadata": {},
   "source": [
    "## 4. Calculating factorials\n",
    "\n",
    "The factorial *n!* represents the product of all integers from *1* to *n*. Using iteration and a suitable initial value for a helper variable, we will now create a function that calculates the factorial of any positive integer. Numbers 0 and 1 have a factorial of 1.\n",
    "\n",
    "**Task:** Implement the function `compute_factorial()`, which takes one parameter `number` (a positive integer), and returns the product of all integers from *1* to *number* (inclusive)."
   ]
  },
  {
   "cell_type": "code",
   "execution_count": null,
   "metadata": {},
   "outputs": [],
   "source": [
    "def compute_factorial(number):\n",
    "    # returns number!\n",
    "    pass\n",
    "\n",
    "print(compute_factorial(6))"
   ]
  },
  {
   "cell_type": "markdown",
   "metadata": {},
   "source": [
    "## 5. Sum of digits\n",
    "\n",
    "One of the advantages and disadvantages of Python is dynamic type checking. This means that we can often freely switch between types and perform the same operations on them. However, we must be careful, as some operators have different effects when used with values of different types. In this task, we will implement a function for calculating the sum of digits of any positive integer. First, we will do this without modifying the input type, and then we will try to find a more elegant solution using other elementary types.\n",
    "\n",
    "**Task:** Implement the function `get_sum_of_digits()`, which takes the parameter `number` and returns the sum of the digits of `number`. Implement the function first without modifying the type of the parameter, then try to find a more suitable solution."
   ]
  },
  {
   "cell_type": "code",
   "execution_count": null,
   "metadata": {},
   "outputs": [],
   "source": [
    "def get_sum_of_digits(number):\n",
    "    # returns the sum of the digits of number\n",
    "    pass\n",
    "\n",
    "print(get_sum_of_digits(123))"
   ]
  },
  {
   "cell_type": "markdown",
   "metadata": {},
   "source": [
    "## 6. Sum of digits - in a different way\n",
    "\n",
    "Of course, functions can also be interconnected, so one function can use the functionality of other functions. Create the function `get_sum_of_digit_factorials()` that returns the sum of factorials of digits of any positive integer.\n",
    "\n",
    "**Task:** Implement the `get_sum_of_digit_factorials()` function, which returns the sum of factorials of digits of `number` given as a parameter."
   ]
  },
  {
   "cell_type": "code",
   "execution_count": null,
   "metadata": {},
   "outputs": [],
   "source": [
    "def get_sum_of_digit_factorials(number):\n",
    "    # returns the sum of the number's digits' factorials\n",
    "    pass\n",
    "\n",
    "print(get_sum_of_digit_factorials(123))"
   ]
  },
  {
   "cell_type": "markdown",
   "metadata": {},
   "source": [
    "## 7. Strange factorials\n",
    "\n",
    "Believe it or not, there are numbers for which the sum of factorials of their digits is equal to the number itself. An example of such a number is 145, since 1! + 4! + 5! = 145. Create a function that will determine whether a given number is such a number or not. Use as many of the already implemented functions as possible.\n",
    "\n",
    "**Task:** Implement a function `is_strange_factorial()` that returns `True` if the sum of factorials of the digits of `number` equals `number`, and returns `False` otherwise. The function has one parameter, a positive integer (`number`)."
   ]
  },
  {
   "cell_type": "code",
   "execution_count": null,
   "metadata": {},
   "outputs": [],
   "source": [
    "def is_strange_factorial(number):\n",
    "    # returns True if the sum of the number's digits' factorials is the same as the number\n",
    "    # returns False otherwise\n",
    "    pass\n",
    "\n",
    "print(is_strange_factorial(145))"
   ]
  },
  {
   "cell_type": "markdown",
   "metadata": {},
   "source": [
    "## What day is it?\n",
    "\n",
    "You often find that there is already a ready-made algorithm for a large number of problems, and it is no different when determining the day of the week for any date. However, since such calculations are based on several conditions, we will focus on the current year (or century). For the year 2023, you can determine the day of the week using the following algorithm:\n",
    "\n",
    "1. Take the last two digits of the year (23)\n",
    "2. Take the result of integer division by 4\n",
    "3. Add the number of the day in the month\n",
    "4. Add the code of the month:\n",
    "  * January: 1\n",
    "  * February: 4\n",
    "  * March: 4\n",
    "  * April: 0\n",
    "  * May: 2\n",
    "  * June: 5\n",
    "  * July: 0\n",
    "  * August: 3\n",
    "  * September: 6\n",
    "  * October: 1\n",
    "  * November: 4\n",
    "  * December: 6\n",
    "5. (Subtract 1 for January and February for leap years)\n",
    "6. Add 6 for dates in the 21st century\n",
    "8. Add the last two digits of the year (23)\n",
    "9. Take the remainder after division by 7: 1 - Sunday, 2 - Monday, etc.\n",
    "\n",
    "**Task:** Implement the function `get_day_of_the_week()`, which has three parameters: year, month, and day of the date (`year`, `month`, `day`), and returns the code of the day of the week."
   ]
  },
  {
   "cell_type": "code",
   "execution_count": null,
   "metadata": {},
   "outputs": [],
   "source": [
    "def get_day_of_the_week(year, month, day):\n",
    "    # returns code for day of the week: 1 for Sunday, 2 for Monday, etc\n",
    "    pass\n",
    "\n",
    "print(get_day_of_the_week(2021, 2, 22))"
   ]
  },
  {
   "cell_type": "markdown",
   "metadata": {},
   "source": [
    "**Additional task:** You can generalize your solution for any century [following this manual](https://cs.uwaterloo.ca/~alopez-o/math-faq/node73.html) or you can implement the so-called [Doomsday algorithm](https://en.wikipedia.org/wiki/Doomsday_rule) from famous mathematician and father of the [Game of Life](https://en.wikipedia.org/wiki/Conway%27s_Game_of_Life), [John Conway](https://en.wikipedia.org/wiki/John_Horton_Conway)"
   ]
  },
  {
   "cell_type": "markdown",
   "metadata": {},
   "source": [
    "## Bonus tasks\n",
    "\n",
    "If you feel like you need to solve some further similar tasks for algorithmization, you can find lots of them on [Project Euler](https://projecteuler.net/archives)."
   ]
  }
 ],
 "metadata": {
  "kernelspec": {
   "display_name": "Python 3",
   "language": "python",
   "name": "python3"
  },
  "language_info": {
   "codemirror_mode": {
    "name": "ipython",
    "version": 3
   },
   "file_extension": ".py",
   "mimetype": "text/x-python",
   "name": "python",
   "nbconvert_exporter": "python",
   "pygments_lexer": "ipython3",
   "version": "3.8.5"
  }
 },
 "nbformat": 4,
 "nbformat_minor": 4
}
