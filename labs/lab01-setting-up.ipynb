{
 "cells": [
  {
   "cell_type": "markdown",
   "metadata": {},
   "source": [
    "# Lab 1: Setting up the programming environment"
   ]
  },
  {
   "cell_type": "markdown",
   "metadata": {},
   "source": [
    "Before we start programming, we need to prepare the programming environment. The newest version of Python is 3.11, [which is available here](https://www.python.org/downloads/). On this course we will use Python **3**, so if you already have an older version of Python 3 installed, that will be fine - we recommend however at least version **3.8**. The labs were tested on versions 3.9 and 3.10. [To review the changes specific to Python 3.11, check out the documentation.](https://docs.python.org/3/whatsnew/3.11.html)\n",
    "\n",
    "If you don't have Python installed, we recommend you start with the special [Anaconda distribution](https://www.anaconda.com), which comes with some useful libraries pre-installed. Anaconda is a platform for supporting data science and machine learning and apart from the basic Python language it also includes the most commonly used libraries such as *numpy*, *pandas*, *matplotlib* a *scikit-learn*, some of which we will use throughout the semester."
   ]
  },
  {
   "cell_type": "markdown",
   "metadata": {},
   "source": [
    "## Step 1: Installing Anaconda"
   ]
  },
  {
   "cell_type": "markdown",
   "metadata": {},
   "source": [
    "You can find the newest version of Anaconda (with Python 3.10) [here](https://www.anaconda.com/products/individual). Select the installation file for your operating system and proceed according to the installation instructions. [Detailed manuals for different operating systems are also available here](https://docs.anaconda.com/anaconda/install/). If you use Windows OS, we recommend you add the path to the Anaconda installation into the environment variables.\n",
    "\n",
    "<img src=\"sources/lab01/anaconda_installation.jpg\" width=\"400\">"
   ]
  },
  {
   "cell_type": "markdown",
   "metadata": {},
   "source": [
    "After the installation is finished, you can check its success through the command prompt (or terminal) by entering `python --version`. You should see an output with `Python 3.10.X`. Anaconda also offers its own command prompt called Anaconda Prompt, where you can interact directly with the installation.\n",
    "\n",
    "Anaconda further offers the creation of virtual environments, where you can have multiple versions of Python installed, add libraries or update the existing environment without changing the base installation of Python. A detailed manual about virtual environments is available [on the web site of Anaconda](https://docs.conda.io/projects/conda/en/latest/user-guide/tasks/manage-environments.html).\n",
    "\n",
    "If you will want to install any library, you can do so by entering `pip install NAME` or `conda install NAME` in the command prompt, or in Anaconda Prompt."
   ]
  },
  {
   "cell_type": "markdown",
   "metadata": {},
   "source": [
    "## Step 2: Installing the development environment (IDE)\n",
    "\n",
    "You can find a large number of IDEs supporting Python, you can choose any one of them based on your experiences and preferences. Anaconda itself already includes an IDE called Spyder. At the end of installing Anaconda you can also opt for installing [PyCharm](https://www.jetbrains.com/pycharm/), which is available for free in its Community Version. Developing programs in Python is also available in [Visual Studio Code](https://code.visualstudio.com).\n",
    "\n",
    "One of the multi-platform solutions supporting different languages is [Sublime Text](https://www.sublimetext.com). You can use it for free, although after some saves you will have to deal with a dialog window offering the full version. Anaconda also offers a plugin for Sublime Text to better support developing in Python, which you can [install by following the manual](https://docs.anaconda.com/anaconda/user-guide/tasks/integration/sublime/)."
   ]
  },
  {
   "cell_type": "markdown",
   "metadata": {},
   "source": [
    "## Step 3: Using Jupyter\n",
    "\n",
    "The labs in this course will be available as Jupyter notebooks. Jupyter is a platform for interactive programming and is a part of the Anaconda distribution. For working with these notebooks you just have to download the files of the labs (extension `.ipynb`) and open them in **Anaconda prompt** as follows:\n",
    "\n",
    "1. navigate to the folder where you have the notebook saved using `cd`\n",
    "2. enter `jupyter notebook`\n",
    "\n",
    "  <img src=\"sources/lab01/jupyter1.jpg\" width=\"600\">\n",
    "\n",
    "3. in your browser you will see the list of all notebooks in the given folder; you can also create new notebooks\n",
    "\n",
    "  <img src=\"sources/lab01/jupyter2.jpg\" width=\"600\">\n",
    "\n",
    "4. click on the selected file, which will open on a new tab\n",
    "\n",
    "  <img src=\"sources/lab01/jupyter3.jpg\" width=\"600\">\n",
    "\n",
    "5. in the notebook you can edit and run any blocks of code, for example the following block:"
   ]
  },
  {
   "cell_type": "code",
   "execution_count": null,
   "metadata": {},
   "outputs": [],
   "source": [
    "print(\"Hello World!\")"
   ]
  },
  {
   "cell_type": "markdown",
   "metadata": {},
   "source": [
    "You can also write codes as Python scripts in `.py` files, all assignments will be prepared in them."
   ]
  },
  {
   "cell_type": "markdown",
   "metadata": {},
   "source": [
    "## Step 4: Checking the installation\n",
    "\n",
    "First try working with Jupyter notebooks as follows:\n",
    "\n",
    "1. download `lab01-setting-up.ipynb` from gitu (you can also clone the project)\n",
    "2. open the file on your computer with Jupyter (see Step 3)\n",
    "3. click on the button for running the block of code with `print(\"Hello World!\")` above (you can also run it by clicking on `Run` in the upper menu, or by pressing `Shift + Enter` after clicking on the block)\n",
    "\n",
    "  <img src=\"sources/lab01/hello-world.jpg\" width=\"600\">\n",
    "\n",
    "4. if everything is installed correctly, the string `Hello World!` will be printed under the block\n",
    "\n",
    "  <img src=\"sources/lab01/hello-world-final.jpg\" width=\"600\">"
   ]
  },
  {
   "cell_type": "markdown",
   "metadata": {},
   "source": [
    "You can also try programming by writing a Python script in any IDE:\n",
    "\n",
    "1. open your selected IDE (see Step 2)\n",
    "2. create a new file (`.py`) or project\n",
    "3. write a single line of code in the script: `print(\"Hello world!\")`\n",
    "4. save the created file and run it\n",
    "  * in the IDE\n",
    "  * by double clicking on the saved file\n",
    "  * in the command prompt by entering `python file_name.py` in the folder that has the file"
   ]
  }
 ],
 "metadata": {
  "kernelspec": {
   "display_name": "Python 3 (ipykernel)",
   "language": "python",
   "name": "python3"
  },
  "language_info": {
   "codemirror_mode": {
    "name": "ipython",
    "version": 3
   },
   "file_extension": ".py",
   "mimetype": "text/x-python",
   "name": "python",
   "nbconvert_exporter": "python",
   "pygments_lexer": "ipython3",
   "version": "3.9.12"
  }
 },
 "nbformat": 4,
 "nbformat_minor": 2
}
